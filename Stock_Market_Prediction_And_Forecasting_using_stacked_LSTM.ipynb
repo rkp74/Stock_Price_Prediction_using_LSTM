{
  "nbformat": 4,
  "nbformat_minor": 0,
  "metadata": {
    "colab": {
      "provenance": [],
      "toc_visible": true,
      "authorship_tag": "ABX9TyOE8zV/I1ewRcR+HNUyn2eN",
      "include_colab_link": true
    },
    "kernelspec": {
      "name": "python3",
      "display_name": "Python 3"
    },
    "language_info": {
      "name": "python"
    },
    "accelerator": "GPU",
    "gpuClass": "standard"
  },
  "cells": [
    {
      "cell_type": "markdown",
      "metadata": {
        "id": "view-in-github",
        "colab_type": "text"
      },
      "source": [
        "<a href=\"https://colab.research.google.com/github/rkp74/Stock_Price_Prediction_using_LSTM/blob/main/Stock_Market_Prediction_And_Forecasting_using_stacked_LSTM.ipynb\" target=\"_parent\"><img src=\"https://colab.research.google.com/assets/colab-badge.svg\" alt=\"Open In Colab\"/></a>"
      ]
    },
    {
      "cell_type": "markdown",
      "source": [
        "# Collection of Stock data from AAPL"
      ],
      "metadata": {
        "id": "l4_d6YB4C_FM"
      }
    },
    {
      "cell_type": "code",
      "execution_count": 60,
      "metadata": {
        "id": "J3zbgaqJX91V"
      },
      "outputs": [],
      "source": [
        "import pandas_datareader as pdr"
      ]
    },
    {
      "cell_type": "markdown",
      "source": [
        "1.   Go to [Tingoo](https://www.tiingo.com/)\n",
        "2.   In Left Most side,click on API.\n",
        "3.   Login using google or whatever methods suits you.\n",
        "4.   Click on Documentation.\n",
        "5.   Go on 1.1.2 Authentication..There u will find API Token or API key\n",
        "\n"
      ],
      "metadata": {
        "id": "4KmQFE17EBv-"
      }
    },
    {
      "cell_type": "code",
      "source": [
        "df = pdr.get_data_tiingo('AAPL' , api_key = \"\")"
      ],
      "metadata": {
        "colab": {
          "base_uri": "https://localhost:8080/"
        },
        "id": "eYh5BsP7YrwJ",
        "outputId": "9e9ddbbc-dfe9-465f-f4f7-0defbc37a574"
      },
      "execution_count": 61,
      "outputs": [
        {
          "output_type": "stream",
          "name": "stderr",
          "text": [
            "/usr/local/lib/python3.9/dist-packages/pandas_datareader/tiingo.py:234: FutureWarning: In a future version of pandas all arguments of concat except for the argument 'objs' will be keyword-only.\n",
            "  return pd.concat(dfs, self._concat_axis)\n"
          ]
        }
      ]
    },
    {
      "cell_type": "code",
      "source": [
        "df.to_csv('AAPL.csv')"
      ],
      "metadata": {
        "id": "E5DqQ-26Z4w_"
      },
      "execution_count": 62,
      "outputs": []
    },
    {
      "cell_type": "code",
      "source": [
        "import pandas as pd"
      ],
      "metadata": {
        "id": "Ng4ofFFaaFd9"
      },
      "execution_count": 63,
      "outputs": []
    },
    {
      "cell_type": "code",
      "source": [
        "df = pd.read_csv('AAPL.csv')"
      ],
      "metadata": {
        "id": "fbhUBRhvaJHB"
      },
      "execution_count": 64,
      "outputs": []
    },
    {
      "cell_type": "code",
      "source": [
        "df.head()"
      ],
      "metadata": {
        "colab": {
          "base_uri": "https://localhost:8080/",
          "height": 357
        },
        "id": "KymyVlraaVHY",
        "outputId": "4f0c6fd2-e781-4514-fc52-5fa75b2e6166"
      },
      "execution_count": 65,
      "outputs": [
        {
          "output_type": "execute_result",
          "data": {
            "text/plain": [
              "  symbol                       date   close    high     low    open    volume  \\\n",
              "0   AAPL  2018-04-12 00:00:00+00:00  174.14  175.00  173.04  173.41  22889285   \n",
              "1   AAPL  2018-04-13 00:00:00+00:00  174.73  175.84  173.85  174.78  25124255   \n",
              "2   AAPL  2018-04-16 00:00:00+00:00  175.82  176.19  174.83  175.03  21578420   \n",
              "3   AAPL  2018-04-17 00:00:00+00:00  178.24  178.94  176.41  176.49  26605442   \n",
              "4   AAPL  2018-04-18 00:00:00+00:00  177.84  178.82  176.88  177.81  20754538   \n",
              "\n",
              "    adjClose    adjHigh     adjLow    adjOpen  adjVolume  divCash  splitFactor  \n",
              "0  41.446642  41.651329  41.184834  41.272897   91557140      0.0          1.0  \n",
              "1  41.587067  41.851255  41.377620  41.598967  100497020      0.0          1.0  \n",
              "2  41.846495  41.934558  41.610867  41.658469   86313680      0.0          1.0  \n",
              "3  42.422473  42.589079  41.986919  42.005960  106421768      0.0          1.0  \n",
              "4  42.327270  42.560518  42.098783  42.320130   83018152      0.0          1.0  "
            ],
            "text/html": [
              "\n",
              "  <div id=\"df-34e522f8-8c3f-41ce-a527-dc53d03ca7e4\">\n",
              "    <div class=\"colab-df-container\">\n",
              "      <div>\n",
              "<style scoped>\n",
              "    .dataframe tbody tr th:only-of-type {\n",
              "        vertical-align: middle;\n",
              "    }\n",
              "\n",
              "    .dataframe tbody tr th {\n",
              "        vertical-align: top;\n",
              "    }\n",
              "\n",
              "    .dataframe thead th {\n",
              "        text-align: right;\n",
              "    }\n",
              "</style>\n",
              "<table border=\"1\" class=\"dataframe\">\n",
              "  <thead>\n",
              "    <tr style=\"text-align: right;\">\n",
              "      <th></th>\n",
              "      <th>symbol</th>\n",
              "      <th>date</th>\n",
              "      <th>close</th>\n",
              "      <th>high</th>\n",
              "      <th>low</th>\n",
              "      <th>open</th>\n",
              "      <th>volume</th>\n",
              "      <th>adjClose</th>\n",
              "      <th>adjHigh</th>\n",
              "      <th>adjLow</th>\n",
              "      <th>adjOpen</th>\n",
              "      <th>adjVolume</th>\n",
              "      <th>divCash</th>\n",
              "      <th>splitFactor</th>\n",
              "    </tr>\n",
              "  </thead>\n",
              "  <tbody>\n",
              "    <tr>\n",
              "      <th>0</th>\n",
              "      <td>AAPL</td>\n",
              "      <td>2018-04-12 00:00:00+00:00</td>\n",
              "      <td>174.14</td>\n",
              "      <td>175.00</td>\n",
              "      <td>173.04</td>\n",
              "      <td>173.41</td>\n",
              "      <td>22889285</td>\n",
              "      <td>41.446642</td>\n",
              "      <td>41.651329</td>\n",
              "      <td>41.184834</td>\n",
              "      <td>41.272897</td>\n",
              "      <td>91557140</td>\n",
              "      <td>0.0</td>\n",
              "      <td>1.0</td>\n",
              "    </tr>\n",
              "    <tr>\n",
              "      <th>1</th>\n",
              "      <td>AAPL</td>\n",
              "      <td>2018-04-13 00:00:00+00:00</td>\n",
              "      <td>174.73</td>\n",
              "      <td>175.84</td>\n",
              "      <td>173.85</td>\n",
              "      <td>174.78</td>\n",
              "      <td>25124255</td>\n",
              "      <td>41.587067</td>\n",
              "      <td>41.851255</td>\n",
              "      <td>41.377620</td>\n",
              "      <td>41.598967</td>\n",
              "      <td>100497020</td>\n",
              "      <td>0.0</td>\n",
              "      <td>1.0</td>\n",
              "    </tr>\n",
              "    <tr>\n",
              "      <th>2</th>\n",
              "      <td>AAPL</td>\n",
              "      <td>2018-04-16 00:00:00+00:00</td>\n",
              "      <td>175.82</td>\n",
              "      <td>176.19</td>\n",
              "      <td>174.83</td>\n",
              "      <td>175.03</td>\n",
              "      <td>21578420</td>\n",
              "      <td>41.846495</td>\n",
              "      <td>41.934558</td>\n",
              "      <td>41.610867</td>\n",
              "      <td>41.658469</td>\n",
              "      <td>86313680</td>\n",
              "      <td>0.0</td>\n",
              "      <td>1.0</td>\n",
              "    </tr>\n",
              "    <tr>\n",
              "      <th>3</th>\n",
              "      <td>AAPL</td>\n",
              "      <td>2018-04-17 00:00:00+00:00</td>\n",
              "      <td>178.24</td>\n",
              "      <td>178.94</td>\n",
              "      <td>176.41</td>\n",
              "      <td>176.49</td>\n",
              "      <td>26605442</td>\n",
              "      <td>42.422473</td>\n",
              "      <td>42.589079</td>\n",
              "      <td>41.986919</td>\n",
              "      <td>42.005960</td>\n",
              "      <td>106421768</td>\n",
              "      <td>0.0</td>\n",
              "      <td>1.0</td>\n",
              "    </tr>\n",
              "    <tr>\n",
              "      <th>4</th>\n",
              "      <td>AAPL</td>\n",
              "      <td>2018-04-18 00:00:00+00:00</td>\n",
              "      <td>177.84</td>\n",
              "      <td>178.82</td>\n",
              "      <td>176.88</td>\n",
              "      <td>177.81</td>\n",
              "      <td>20754538</td>\n",
              "      <td>42.327270</td>\n",
              "      <td>42.560518</td>\n",
              "      <td>42.098783</td>\n",
              "      <td>42.320130</td>\n",
              "      <td>83018152</td>\n",
              "      <td>0.0</td>\n",
              "      <td>1.0</td>\n",
              "    </tr>\n",
              "  </tbody>\n",
              "</table>\n",
              "</div>\n",
              "      <button class=\"colab-df-convert\" onclick=\"convertToInteractive('df-34e522f8-8c3f-41ce-a527-dc53d03ca7e4')\"\n",
              "              title=\"Convert this dataframe to an interactive table.\"\n",
              "              style=\"display:none;\">\n",
              "        \n",
              "  <svg xmlns=\"http://www.w3.org/2000/svg\" height=\"24px\"viewBox=\"0 0 24 24\"\n",
              "       width=\"24px\">\n",
              "    <path d=\"M0 0h24v24H0V0z\" fill=\"none\"/>\n",
              "    <path d=\"M18.56 5.44l.94 2.06.94-2.06 2.06-.94-2.06-.94-.94-2.06-.94 2.06-2.06.94zm-11 1L8.5 8.5l.94-2.06 2.06-.94-2.06-.94L8.5 2.5l-.94 2.06-2.06.94zm10 10l.94 2.06.94-2.06 2.06-.94-2.06-.94-.94-2.06-.94 2.06-2.06.94z\"/><path d=\"M17.41 7.96l-1.37-1.37c-.4-.4-.92-.59-1.43-.59-.52 0-1.04.2-1.43.59L10.3 9.45l-7.72 7.72c-.78.78-.78 2.05 0 2.83L4 21.41c.39.39.9.59 1.41.59.51 0 1.02-.2 1.41-.59l7.78-7.78 2.81-2.81c.8-.78.8-2.07 0-2.86zM5.41 20L4 18.59l7.72-7.72 1.47 1.35L5.41 20z\"/>\n",
              "  </svg>\n",
              "      </button>\n",
              "      \n",
              "  <style>\n",
              "    .colab-df-container {\n",
              "      display:flex;\n",
              "      flex-wrap:wrap;\n",
              "      gap: 12px;\n",
              "    }\n",
              "\n",
              "    .colab-df-convert {\n",
              "      background-color: #E8F0FE;\n",
              "      border: none;\n",
              "      border-radius: 50%;\n",
              "      cursor: pointer;\n",
              "      display: none;\n",
              "      fill: #1967D2;\n",
              "      height: 32px;\n",
              "      padding: 0 0 0 0;\n",
              "      width: 32px;\n",
              "    }\n",
              "\n",
              "    .colab-df-convert:hover {\n",
              "      background-color: #E2EBFA;\n",
              "      box-shadow: 0px 1px 2px rgba(60, 64, 67, 0.3), 0px 1px 3px 1px rgba(60, 64, 67, 0.15);\n",
              "      fill: #174EA6;\n",
              "    }\n",
              "\n",
              "    [theme=dark] .colab-df-convert {\n",
              "      background-color: #3B4455;\n",
              "      fill: #D2E3FC;\n",
              "    }\n",
              "\n",
              "    [theme=dark] .colab-df-convert:hover {\n",
              "      background-color: #434B5C;\n",
              "      box-shadow: 0px 1px 3px 1px rgba(0, 0, 0, 0.15);\n",
              "      filter: drop-shadow(0px 1px 2px rgba(0, 0, 0, 0.3));\n",
              "      fill: #FFFFFF;\n",
              "    }\n",
              "  </style>\n",
              "\n",
              "      <script>\n",
              "        const buttonEl =\n",
              "          document.querySelector('#df-34e522f8-8c3f-41ce-a527-dc53d03ca7e4 button.colab-df-convert');\n",
              "        buttonEl.style.display =\n",
              "          google.colab.kernel.accessAllowed ? 'block' : 'none';\n",
              "\n",
              "        async function convertToInteractive(key) {\n",
              "          const element = document.querySelector('#df-34e522f8-8c3f-41ce-a527-dc53d03ca7e4');\n",
              "          const dataTable =\n",
              "            await google.colab.kernel.invokeFunction('convertToInteractive',\n",
              "                                                     [key], {});\n",
              "          if (!dataTable) return;\n",
              "\n",
              "          const docLinkHtml = 'Like what you see? Visit the ' +\n",
              "            '<a target=\"_blank\" href=https://colab.research.google.com/notebooks/data_table.ipynb>data table notebook</a>'\n",
              "            + ' to learn more about interactive tables.';\n",
              "          element.innerHTML = '';\n",
              "          dataTable['output_type'] = 'display_data';\n",
              "          await google.colab.output.renderOutput(dataTable, element);\n",
              "          const docLink = document.createElement('div');\n",
              "          docLink.innerHTML = docLinkHtml;\n",
              "          element.appendChild(docLink);\n",
              "        }\n",
              "      </script>\n",
              "    </div>\n",
              "  </div>\n",
              "  "
            ]
          },
          "metadata": {},
          "execution_count": 65
        }
      ]
    },
    {
      "cell_type": "code",
      "source": [
        "df.tail()"
      ],
      "metadata": {
        "colab": {
          "base_uri": "https://localhost:8080/",
          "height": 357
        },
        "id": "Y8iwSSBBIfdE",
        "outputId": "d74a2ef8-54c4-4d84-aede-78841c817695"
      },
      "execution_count": 66,
      "outputs": [
        {
          "output_type": "execute_result",
          "data": {
            "text/plain": [
              "     symbol                       date   close      high     low     open  \\\n",
              "1252   AAPL  2023-04-03 00:00:00+00:00  166.17  166.2900  164.22  164.270   \n",
              "1253   AAPL  2023-04-04 00:00:00+00:00  165.63  166.8400  165.11  166.595   \n",
              "1254   AAPL  2023-04-05 00:00:00+00:00  163.76  165.0500  161.80  164.740   \n",
              "1255   AAPL  2023-04-06 00:00:00+00:00  164.66  164.9584  162.00  162.430   \n",
              "1256   AAPL  2023-04-10 00:00:00+00:00  162.03  162.0300  160.08  161.420   \n",
              "\n",
              "        volume  adjClose   adjHigh  adjLow  adjOpen  adjVolume  divCash  \\\n",
              "1252  56976187    166.17  166.2900  164.22  164.270   56976187      0.0   \n",
              "1253  46278295    165.63  166.8400  165.11  166.595   46278295      0.0   \n",
              "1254  51511744    163.76  165.0500  161.80  164.740   51511744      0.0   \n",
              "1255  45390123    164.66  164.9584  162.00  162.430   45390123      0.0   \n",
              "1256  47716882    162.03  162.0300  160.08  161.420   47716882      0.0   \n",
              "\n",
              "      splitFactor  \n",
              "1252          1.0  \n",
              "1253          1.0  \n",
              "1254          1.0  \n",
              "1255          1.0  \n",
              "1256          1.0  "
            ],
            "text/html": [
              "\n",
              "  <div id=\"df-ad743a3e-ee60-40a0-ab3e-b7acda07e42e\">\n",
              "    <div class=\"colab-df-container\">\n",
              "      <div>\n",
              "<style scoped>\n",
              "    .dataframe tbody tr th:only-of-type {\n",
              "        vertical-align: middle;\n",
              "    }\n",
              "\n",
              "    .dataframe tbody tr th {\n",
              "        vertical-align: top;\n",
              "    }\n",
              "\n",
              "    .dataframe thead th {\n",
              "        text-align: right;\n",
              "    }\n",
              "</style>\n",
              "<table border=\"1\" class=\"dataframe\">\n",
              "  <thead>\n",
              "    <tr style=\"text-align: right;\">\n",
              "      <th></th>\n",
              "      <th>symbol</th>\n",
              "      <th>date</th>\n",
              "      <th>close</th>\n",
              "      <th>high</th>\n",
              "      <th>low</th>\n",
              "      <th>open</th>\n",
              "      <th>volume</th>\n",
              "      <th>adjClose</th>\n",
              "      <th>adjHigh</th>\n",
              "      <th>adjLow</th>\n",
              "      <th>adjOpen</th>\n",
              "      <th>adjVolume</th>\n",
              "      <th>divCash</th>\n",
              "      <th>splitFactor</th>\n",
              "    </tr>\n",
              "  </thead>\n",
              "  <tbody>\n",
              "    <tr>\n",
              "      <th>1252</th>\n",
              "      <td>AAPL</td>\n",
              "      <td>2023-04-03 00:00:00+00:00</td>\n",
              "      <td>166.17</td>\n",
              "      <td>166.2900</td>\n",
              "      <td>164.22</td>\n",
              "      <td>164.270</td>\n",
              "      <td>56976187</td>\n",
              "      <td>166.17</td>\n",
              "      <td>166.2900</td>\n",
              "      <td>164.22</td>\n",
              "      <td>164.270</td>\n",
              "      <td>56976187</td>\n",
              "      <td>0.0</td>\n",
              "      <td>1.0</td>\n",
              "    </tr>\n",
              "    <tr>\n",
              "      <th>1253</th>\n",
              "      <td>AAPL</td>\n",
              "      <td>2023-04-04 00:00:00+00:00</td>\n",
              "      <td>165.63</td>\n",
              "      <td>166.8400</td>\n",
              "      <td>165.11</td>\n",
              "      <td>166.595</td>\n",
              "      <td>46278295</td>\n",
              "      <td>165.63</td>\n",
              "      <td>166.8400</td>\n",
              "      <td>165.11</td>\n",
              "      <td>166.595</td>\n",
              "      <td>46278295</td>\n",
              "      <td>0.0</td>\n",
              "      <td>1.0</td>\n",
              "    </tr>\n",
              "    <tr>\n",
              "      <th>1254</th>\n",
              "      <td>AAPL</td>\n",
              "      <td>2023-04-05 00:00:00+00:00</td>\n",
              "      <td>163.76</td>\n",
              "      <td>165.0500</td>\n",
              "      <td>161.80</td>\n",
              "      <td>164.740</td>\n",
              "      <td>51511744</td>\n",
              "      <td>163.76</td>\n",
              "      <td>165.0500</td>\n",
              "      <td>161.80</td>\n",
              "      <td>164.740</td>\n",
              "      <td>51511744</td>\n",
              "      <td>0.0</td>\n",
              "      <td>1.0</td>\n",
              "    </tr>\n",
              "    <tr>\n",
              "      <th>1255</th>\n",
              "      <td>AAPL</td>\n",
              "      <td>2023-04-06 00:00:00+00:00</td>\n",
              "      <td>164.66</td>\n",
              "      <td>164.9584</td>\n",
              "      <td>162.00</td>\n",
              "      <td>162.430</td>\n",
              "      <td>45390123</td>\n",
              "      <td>164.66</td>\n",
              "      <td>164.9584</td>\n",
              "      <td>162.00</td>\n",
              "      <td>162.430</td>\n",
              "      <td>45390123</td>\n",
              "      <td>0.0</td>\n",
              "      <td>1.0</td>\n",
              "    </tr>\n",
              "    <tr>\n",
              "      <th>1256</th>\n",
              "      <td>AAPL</td>\n",
              "      <td>2023-04-10 00:00:00+00:00</td>\n",
              "      <td>162.03</td>\n",
              "      <td>162.0300</td>\n",
              "      <td>160.08</td>\n",
              "      <td>161.420</td>\n",
              "      <td>47716882</td>\n",
              "      <td>162.03</td>\n",
              "      <td>162.0300</td>\n",
              "      <td>160.08</td>\n",
              "      <td>161.420</td>\n",
              "      <td>47716882</td>\n",
              "      <td>0.0</td>\n",
              "      <td>1.0</td>\n",
              "    </tr>\n",
              "  </tbody>\n",
              "</table>\n",
              "</div>\n",
              "      <button class=\"colab-df-convert\" onclick=\"convertToInteractive('df-ad743a3e-ee60-40a0-ab3e-b7acda07e42e')\"\n",
              "              title=\"Convert this dataframe to an interactive table.\"\n",
              "              style=\"display:none;\">\n",
              "        \n",
              "  <svg xmlns=\"http://www.w3.org/2000/svg\" height=\"24px\"viewBox=\"0 0 24 24\"\n",
              "       width=\"24px\">\n",
              "    <path d=\"M0 0h24v24H0V0z\" fill=\"none\"/>\n",
              "    <path d=\"M18.56 5.44l.94 2.06.94-2.06 2.06-.94-2.06-.94-.94-2.06-.94 2.06-2.06.94zm-11 1L8.5 8.5l.94-2.06 2.06-.94-2.06-.94L8.5 2.5l-.94 2.06-2.06.94zm10 10l.94 2.06.94-2.06 2.06-.94-2.06-.94-.94-2.06-.94 2.06-2.06.94z\"/><path d=\"M17.41 7.96l-1.37-1.37c-.4-.4-.92-.59-1.43-.59-.52 0-1.04.2-1.43.59L10.3 9.45l-7.72 7.72c-.78.78-.78 2.05 0 2.83L4 21.41c.39.39.9.59 1.41.59.51 0 1.02-.2 1.41-.59l7.78-7.78 2.81-2.81c.8-.78.8-2.07 0-2.86zM5.41 20L4 18.59l7.72-7.72 1.47 1.35L5.41 20z\"/>\n",
              "  </svg>\n",
              "      </button>\n",
              "      \n",
              "  <style>\n",
              "    .colab-df-container {\n",
              "      display:flex;\n",
              "      flex-wrap:wrap;\n",
              "      gap: 12px;\n",
              "    }\n",
              "\n",
              "    .colab-df-convert {\n",
              "      background-color: #E8F0FE;\n",
              "      border: none;\n",
              "      border-radius: 50%;\n",
              "      cursor: pointer;\n",
              "      display: none;\n",
              "      fill: #1967D2;\n",
              "      height: 32px;\n",
              "      padding: 0 0 0 0;\n",
              "      width: 32px;\n",
              "    }\n",
              "\n",
              "    .colab-df-convert:hover {\n",
              "      background-color: #E2EBFA;\n",
              "      box-shadow: 0px 1px 2px rgba(60, 64, 67, 0.3), 0px 1px 3px 1px rgba(60, 64, 67, 0.15);\n",
              "      fill: #174EA6;\n",
              "    }\n",
              "\n",
              "    [theme=dark] .colab-df-convert {\n",
              "      background-color: #3B4455;\n",
              "      fill: #D2E3FC;\n",
              "    }\n",
              "\n",
              "    [theme=dark] .colab-df-convert:hover {\n",
              "      background-color: #434B5C;\n",
              "      box-shadow: 0px 1px 3px 1px rgba(0, 0, 0, 0.15);\n",
              "      filter: drop-shadow(0px 1px 2px rgba(0, 0, 0, 0.3));\n",
              "      fill: #FFFFFF;\n",
              "    }\n",
              "  </style>\n",
              "\n",
              "      <script>\n",
              "        const buttonEl =\n",
              "          document.querySelector('#df-ad743a3e-ee60-40a0-ab3e-b7acda07e42e button.colab-df-convert');\n",
              "        buttonEl.style.display =\n",
              "          google.colab.kernel.accessAllowed ? 'block' : 'none';\n",
              "\n",
              "        async function convertToInteractive(key) {\n",
              "          const element = document.querySelector('#df-ad743a3e-ee60-40a0-ab3e-b7acda07e42e');\n",
              "          const dataTable =\n",
              "            await google.colab.kernel.invokeFunction('convertToInteractive',\n",
              "                                                     [key], {});\n",
              "          if (!dataTable) return;\n",
              "\n",
              "          const docLinkHtml = 'Like what you see? Visit the ' +\n",
              "            '<a target=\"_blank\" href=https://colab.research.google.com/notebooks/data_table.ipynb>data table notebook</a>'\n",
              "            + ' to learn more about interactive tables.';\n",
              "          element.innerHTML = '';\n",
              "          dataTable['output_type'] = 'display_data';\n",
              "          await google.colab.output.renderOutput(dataTable, element);\n",
              "          const docLink = document.createElement('div');\n",
              "          docLink.innerHTML = docLinkHtml;\n",
              "          element.appendChild(docLink);\n",
              "        }\n",
              "      </script>\n",
              "    </div>\n",
              "  </div>\n",
              "  "
            ]
          },
          "metadata": {},
          "execution_count": 66
        }
      ]
    },
    {
      "cell_type": "code",
      "source": [
        "df2 = df.reset_index()['close']"
      ],
      "metadata": {
        "id": "bt1JsIMqaP02"
      },
      "execution_count": 67,
      "outputs": []
    },
    {
      "cell_type": "code",
      "source": [
        "df2[1228:]"
      ],
      "metadata": {
        "id": "UJsCMWSPaqKy",
        "colab": {
          "base_uri": "https://localhost:8080/"
        },
        "outputId": "14db134e-fadd-49ae-e429-0c51c4a1c109"
      },
      "execution_count": 68,
      "outputs": [
        {
          "output_type": "execute_result",
          "data": {
            "text/plain": [
              "1228    147.41\n",
              "1229    145.31\n",
              "1230    145.91\n",
              "1231    151.03\n",
              "1232    153.83\n",
              "1233    151.60\n",
              "1234    152.87\n",
              "1235    150.59\n",
              "1236    148.50\n",
              "1237    150.47\n",
              "1238    152.59\n",
              "1239    152.99\n",
              "1240    155.85\n",
              "1241    155.00\n",
              "1242    157.40\n",
              "1243    159.28\n",
              "1244    157.83\n",
              "1245    158.93\n",
              "1246    160.25\n",
              "1247    158.28\n",
              "1248    157.65\n",
              "1249    160.77\n",
              "1250    162.36\n",
              "1251    164.90\n",
              "1252    166.17\n",
              "1253    165.63\n",
              "1254    163.76\n",
              "1255    164.66\n",
              "1256    162.03\n",
              "Name: close, dtype: float64"
            ]
          },
          "metadata": {},
          "execution_count": 68
        }
      ]
    },
    {
      "cell_type": "code",
      "source": [
        "df1 = df.reset_index()['close']"
      ],
      "metadata": {
        "id": "k1-9WUoMIb4I"
      },
      "execution_count": 69,
      "outputs": []
    },
    {
      "cell_type": "code",
      "source": [
        "df1.shape"
      ],
      "metadata": {
        "colab": {
          "base_uri": "https://localhost:8080/"
        },
        "id": "t5rgltQpI3M6",
        "outputId": "86929885-33de-451d-c256-9f7faab3c3d4"
      },
      "execution_count": 70,
      "outputs": [
        {
          "output_type": "execute_result",
          "data": {
            "text/plain": [
              "(1257,)"
            ]
          },
          "metadata": {},
          "execution_count": 70
        }
      ]
    },
    {
      "cell_type": "code",
      "source": [
        "import matplotlib.pyplot as plt\n",
        "plt.plot(df1)"
      ],
      "metadata": {
        "colab": {
          "base_uri": "https://localhost:8080/",
          "height": 448
        },
        "id": "LR7eZJ7VI40g",
        "outputId": "4fcd51f7-2cbf-4d85-b012-c90e4c0d3240"
      },
      "execution_count": 71,
      "outputs": [
        {
          "output_type": "execute_result",
          "data": {
            "text/plain": [
              "[<matplotlib.lines.Line2D at 0x7fafb9847d60>]"
            ]
          },
          "metadata": {},
          "execution_count": 71
        },
        {
          "output_type": "display_data",
          "data": {
            "text/plain": [
              "<Figure size 640x480 with 1 Axes>"
            ],
            "image/png": "[encoded data removed]"
          },
          "metadata": {}
        }
      ]
    },
    {
      "cell_type": "code",
      "source": [
        "import numpy as np"
      ],
      "metadata": {
        "id": "yCSyAP75JBBx"
      },
      "execution_count": 72,
      "outputs": []
    },
    {
      "cell_type": "code",
      "source": [
        "## LSTM are sensitive to the scale of the data.So we generally apply MinMax scaler.\n",
        "from sklearn.preprocessing import MinMaxScaler\n",
        "scaler = MinMaxScaler(feature_range =(0,1))\n",
        "df1 = scaler.fit_transform(np.array(df1).reshape(-1,1))"
      ],
      "metadata": {
        "id": "YLNWgTqqJJ7a"
      },
      "execution_count": 73,
      "outputs": []
    },
    {
      "cell_type": "code",
      "source": [
        "df1.shape"
      ],
      "metadata": {
        "colab": {
          "base_uri": "https://localhost:8080/"
        },
        "id": "mQM0O4t1JUkR",
        "outputId": "9eaa944b-d6b5-48e6-8355-476aeb28045f"
      },
      "execution_count": 74,
      "outputs": [
        {
          "output_type": "execute_result",
          "data": {
            "text/plain": [
              "(1257, 1)"
            ]
          },
          "metadata": {},
          "execution_count": 74
        }
      ]
    },
    {
      "cell_type": "code",
      "source": [
        "print(df1)"
      ],
      "metadata": {
        "colab": {
          "base_uri": "https://localhost:8080/"
        },
        "id": "lYqqZ_mIMNN4",
        "outputId": "f2460f17-1abb-46a4-9a13-10625be9440b"
      },
      "execution_count": 113,
      "outputs": [
        {
          "output_type": "stream",
          "name": "stdout",
          "text": [
            "[[0.16856606]\n",
            " [0.17004383]\n",
            " [0.17277395]\n",
            " ...\n",
            " [0.14256731]\n",
            " [0.14482154]\n",
            " [0.13823419]]\n"
          ]
        }
      ]
    },
    {
      "cell_type": "markdown",
      "source": [
        "# Spilt and Preprocessing of Data"
      ],
      "metadata": {
        "id": "5KCexocmDNmt"
      }
    },
    {
      "cell_type": "code",
      "source": [
        "## Time Series Data --> Train and Test Spilt --> \n",
        "## Data = 120,130,125,140,134,150,160,190,154\n",
        "## Train = 120,130,125,140,134,150\n",
        "## Test = 160,190,154\n",
        "\n",
        "train_size = int(len(df1)*0.65)\n",
        "test_size = len(df1) - train_size\n",
        "train_data , test_data = df1[0:train_size,:] , df1[train_size:len(df1),:1]"
      ],
      "metadata": {
        "id": "9cK4tm39MQrL"
      },
      "execution_count": 76,
      "outputs": []
    },
    {
      "cell_type": "code",
      "source": [
        "train_size"
      ],
      "metadata": {
        "colab": {
          "base_uri": "https://localhost:8080/"
        },
        "id": "nAMv_TOtO5YK",
        "outputId": "7f853699-32cd-4e4d-87f9-fc9c25c8968d"
      },
      "execution_count": 77,
      "outputs": [
        {
          "output_type": "execute_result",
          "data": {
            "text/plain": [
              "817"
            ]
          },
          "metadata": {},
          "execution_count": 77
        }
      ]
    },
    {
      "cell_type": "code",
      "source": [
        "test_size"
      ],
      "metadata": {
        "colab": {
          "base_uri": "https://localhost:8080/"
        },
        "id": "NjMSXg52PEDT",
        "outputId": "72f1ffc0-5833-4436-b42a-a6e343dffe31"
      },
      "execution_count": 78,
      "outputs": [
        {
          "output_type": "execute_result",
          "data": {
            "text/plain": [
              "440"
            ]
          },
          "metadata": {},
          "execution_count": 78
        }
      ]
    },
    {
      "cell_type": "code",
      "source": [
        "def create_dataset(dataset,time_step=1):\n",
        "  dataX, dataY = [] , []\n",
        "  for i in range(len(dataset)-time_step-1):\n",
        "    a = dataset[i: (i + time_step),0]\n",
        "    dataX.append(a)\n",
        "    dataY.append(dataset[i+time_step,0])\n",
        "  return np.array(dataX) , np.array(dataY)\n"
      ],
      "metadata": {
        "id": "aMmTC2urPFPl"
      },
      "execution_count": 79,
      "outputs": []
    },
    {
      "cell_type": "code",
      "source": [
        "time_step = 100\n",
        "X_train , y_train = create_dataset(train_data,time_step)\n",
        "X_test , y_test = create_dataset(test_data,time_step)"
      ],
      "metadata": {
        "id": "yyDo1oQJRr3z"
      },
      "execution_count": 80,
      "outputs": []
    },
    {
      "cell_type": "code",
      "source": [
        "print(X_train)"
      ],
      "metadata": {
        "colab": {
          "base_uri": "https://localhost:8080/"
        },
        "id": "mCnjaPGKSEgY",
        "outputId": "cd9729d0-40cb-472e-f437-fcd4b3976e50"
      },
      "execution_count": 81,
      "outputs": [
        {
          "output_type": "stream",
          "name": "stdout",
          "text": [
            "[[0.16856606 0.17004383 0.17277395 ... 0.29089543 0.29603006 0.30254227]\n",
            " [0.17004383 0.17277395 0.17883532 ... 0.29603006 0.30254227 0.3043707 ]\n",
            " [0.17277395 0.17883532 0.17783344 ... 0.30254227 0.3043707  0.3006387 ]\n",
            " ...\n",
            " [0.07150908 0.07085786 0.07145899 ... 0.07544145 0.07621791 0.08295554]\n",
            " [0.07085786 0.07145899 0.06599875 ... 0.07621791 0.08295554 0.08811522]\n",
            " [0.07145899 0.06599875 0.06011271 ... 0.08295554 0.08811522 0.09450219]]\n"
          ]
        }
      ]
    },
    {
      "cell_type": "code",
      "source": [
        "print(X_train.shape)"
      ],
      "metadata": {
        "colab": {
          "base_uri": "https://localhost:8080/"
        },
        "id": "YYdqF-6qSrxQ",
        "outputId": "107eaa0c-1091-417a-cf2d-0120f53a6ac8"
      },
      "execution_count": 82,
      "outputs": [
        {
          "output_type": "stream",
          "name": "stdout",
          "text": [
            "(716, 100)\n"
          ]
        }
      ]
    },
    {
      "cell_type": "code",
      "source": [
        "print(X_test.shape)"
      ],
      "metadata": {
        "colab": {
          "base_uri": "https://localhost:8080/"
        },
        "id": "9sfazdxcSL7i",
        "outputId": "5301983f-0b53-4658-9dbf-01d1c2351a26"
      },
      "execution_count": 83,
      "outputs": [
        {
          "output_type": "stream",
          "name": "stdout",
          "text": [
            "(339, 100)\n"
          ]
        }
      ]
    },
    {
      "cell_type": "code",
      "source": [
        "print(y_train.shape)"
      ],
      "metadata": {
        "colab": {
          "base_uri": "https://localhost:8080/"
        },
        "id": "jQQnpFvYTIWC",
        "outputId": "c1ce5b09-ed21-418f-e601-bc49b178fd1d"
      },
      "execution_count": 84,
      "outputs": [
        {
          "output_type": "stream",
          "name": "stdout",
          "text": [
            "(716,)\n"
          ]
        }
      ]
    },
    {
      "cell_type": "code",
      "source": [
        "print(y_test.shape)"
      ],
      "metadata": {
        "colab": {
          "base_uri": "https://localhost:8080/"
        },
        "id": "QzDi07BtS1bU",
        "outputId": "dd7054db-7545-4df5-fa8c-e8b3eeaa7cd6"
      },
      "execution_count": 85,
      "outputs": [
        {
          "output_type": "stream",
          "name": "stdout",
          "text": [
            "(339,)\n"
          ]
        }
      ]
    },
    {
      "cell_type": "code",
      "source": [
        "# reshape input to be [samples,time_steps, features] which is required for LSTM\n",
        "X_train = X_train.reshape(X_train.shape[0],X_train.shape[1],1)\n",
        "X_test = X_test.reshape(X_test.shape[0],X_test.shape[1],1)"
      ],
      "metadata": {
        "id": "1hw2DZjCTLVt"
      },
      "execution_count": 86,
      "outputs": []
    },
    {
      "cell_type": "code",
      "source": [
        "X_train.shape[0]"
      ],
      "metadata": {
        "colab": {
          "base_uri": "https://localhost:8080/"
        },
        "id": "TOgWnscIT4Kw",
        "outputId": "8b2b6661-521c-4166-dfdf-8b231bd4e1af"
      },
      "execution_count": 87,
      "outputs": [
        {
          "output_type": "execute_result",
          "data": {
            "text/plain": [
              "716"
            ]
          },
          "metadata": {},
          "execution_count": 87
        }
      ]
    },
    {
      "cell_type": "code",
      "source": [
        "X_train.shape[1]"
      ],
      "metadata": {
        "colab": {
          "base_uri": "https://localhost:8080/"
        },
        "id": "Ao_MXX0HT8Sn",
        "outputId": "3fb7edae-96f9-4a50-af81-1d1940ba6b0e"
      },
      "execution_count": 88,
      "outputs": [
        {
          "output_type": "execute_result",
          "data": {
            "text/plain": [
              "100"
            ]
          },
          "metadata": {},
          "execution_count": 88
        }
      ]
    },
    {
      "cell_type": "code",
      "source": [
        "X_train.shape"
      ],
      "metadata": {
        "colab": {
          "base_uri": "https://localhost:8080/"
        },
        "id": "Y_DHamC5UAVW",
        "outputId": "79e6d0a9-5f98-4372-bdd5-de34325d65bc"
      },
      "execution_count": 114,
      "outputs": [
        {
          "output_type": "execute_result",
          "data": {
            "text/plain": [
              "(716, 100, 1)"
            ]
          },
          "metadata": {},
          "execution_count": 114
        }
      ]
    },
    {
      "cell_type": "markdown",
      "source": [
        "# Create Stacked LSTM Model"
      ],
      "metadata": {
        "id": "CpKLya5SDWLc"
      }
    },
    {
      "cell_type": "code",
      "source": [
        "### Create the Stacked LSTM Model\n",
        "from tensorflow.keras.models import Sequential\n",
        "from tensorflow.keras.layers import Dense\n",
        "from tensorflow.keras.layers import LSTM"
      ],
      "metadata": {
        "id": "wOM7AQ5YUM4o"
      },
      "execution_count": 90,
      "outputs": []
    },
    {
      "cell_type": "code",
      "source": [
        "model = Sequential()\n",
        "model.add(LSTM(50,return_sequences=True,input_shape =(100,1)))\n",
        "model.add(LSTM(50,return_sequences=True))\n",
        "model.add(LSTM(50))\n",
        "model.add(Dense(1))\n",
        "model.compile(loss = 'mean_squared_error' ,optimizer = 'adam')"
      ],
      "metadata": {
        "id": "qiDaCn8zyjmW"
      },
      "execution_count": 91,
      "outputs": []
    },
    {
      "cell_type": "code",
      "source": [
        "model.summary()"
      ],
      "metadata": {
        "colab": {
          "base_uri": "https://localhost:8080/"
        },
        "id": "fmOBOozfzQV1",
        "outputId": "4fbe72a3-eaeb-4b60-8639-565f728744da"
      },
      "execution_count": 92,
      "outputs": [
        {
          "output_type": "stream",
          "name": "stdout",
          "text": [
            "Model: \"sequential_1\"\n",
            "_________________________________________________________________\n",
            " Layer (type)                Output Shape              Param #   \n",
            "=================================================================\n",
            " lstm_3 (LSTM)               (None, 100, 50)           10400     \n",
            "                                                                 \n",
            " lstm_4 (LSTM)               (None, 100, 50)           20200     \n",
            "                                                                 \n",
            " lstm_5 (LSTM)               (None, 50)                20200     \n",
            "                                                                 \n",
            " dense_1 (Dense)             (None, 1)                 51        \n",
            "                                                                 \n",
            "=================================================================\n",
            "Total params: 50,851\n",
            "Trainable params: 50,851\n",
            "Non-trainable params: 0\n",
            "_________________________________________________________________\n"
          ]
        }
      ]
    },
    {
      "cell_type": "code",
      "source": [
        "from numpy.matrixlib import test\n",
        "model.fit(X_train,y_train,validation_data=(X_test,y_test),epochs=200,batch_size=64,verbose=1)"
      ],
      "metadata": {
        "colab": {
          "base_uri": "https://localhost:8080/"
        },
        "id": "0lnnrXd-zWGg",
        "outputId": "90f760ed-6476-4aed-bdb7-172f137e389a"
      },
      "execution_count": 93,
      "outputs": [
        {
          "output_type": "stream",
          "name": "stdout",
          "text": [
            "Epoch 1/200\n",
            "12/12 [==============================] - 12s 372ms/step - loss: 0.0352 - val_loss: 6.4878e-04\n",
            "Epoch 2/200\n",
            "12/12 [==============================] - 1s 72ms/step - loss: 0.0158 - val_loss: 0.0056\n",
            "Epoch 3/200\n",
            "12/12 [==============================] - 1s 56ms/step - loss: 0.0107 - val_loss: 4.1956e-04\n",
            "Epoch 4/200\n",
            "12/12 [==============================] - 1s 46ms/step - loss: 0.0094 - val_loss: 5.7114e-04\n",
            "Epoch 5/200\n",
            "12/12 [==============================] - 1s 47ms/step - loss: 0.0086 - val_loss: 4.0916e-04\n",
            "Epoch 6/200\n",
            "12/12 [==============================] - 1s 64ms/step - loss: 0.0071 - val_loss: 6.2076e-04\n",
            "Epoch 7/200\n",
            "12/12 [==============================] - 1s 43ms/step - loss: 0.0063 - val_loss: 3.3005e-04\n",
            "Epoch 8/200\n",
            "12/12 [==============================] - 1s 44ms/step - loss: 0.0059 - val_loss: 4.4528e-04\n",
            "Epoch 9/200\n",
            "12/12 [==============================] - 1s 44ms/step - loss: 0.0056 - val_loss: 6.1591e-04\n",
            "Epoch 10/200\n",
            "12/12 [==============================] - 0s 41ms/step - loss: 0.0051 - val_loss: 3.1053e-04\n",
            "Epoch 11/200\n",
            "12/12 [==============================] - 1s 54ms/step - loss: 0.0070 - val_loss: 0.0014\n",
            "Epoch 12/200\n",
            "12/12 [==============================] - 1s 57ms/step - loss: 0.0049 - val_loss: 4.2188e-04\n",
            "Epoch 13/200\n",
            "12/12 [==============================] - 0s 37ms/step - loss: 0.0043 - val_loss: 6.0832e-04\n",
            "Epoch 14/200\n",
            "12/12 [==============================] - 1s 53ms/step - loss: 0.0041 - val_loss: 3.5652e-04\n",
            "Epoch 15/200\n",
            "12/12 [==============================] - 1s 58ms/step - loss: 0.0036 - val_loss: 3.0797e-04\n",
            "Epoch 16/200\n",
            "12/12 [==============================] - 1s 46ms/step - loss: 0.0034 - val_loss: 4.9158e-04\n",
            "Epoch 17/200\n",
            "12/12 [==============================] - 1s 49ms/step - loss: 0.0042 - val_loss: 3.5955e-04\n",
            "Epoch 18/200\n",
            "12/12 [==============================] - 1s 58ms/step - loss: 0.0033 - val_loss: 3.1504e-04\n",
            "Epoch 19/200\n",
            "12/12 [==============================] - 1s 53ms/step - loss: 0.0027 - val_loss: 2.7225e-04\n",
            "Epoch 20/200\n",
            "12/12 [==============================] - 1s 81ms/step - loss: 0.0028 - val_loss: 4.7701e-04\n",
            "Epoch 21/200\n",
            "12/12 [==============================] - 1s 64ms/step - loss: 0.0029 - val_loss: 2.7892e-04\n",
            "Epoch 22/200\n",
            "12/12 [==============================] - 1s 68ms/step - loss: 0.0023 - val_loss: 2.5089e-04\n",
            "Epoch 23/200\n",
            "12/12 [==============================] - 1s 64ms/step - loss: 0.0021 - val_loss: 2.5976e-04\n",
            "Epoch 24/200\n",
            "12/12 [==============================] - 1s 54ms/step - loss: 0.0021 - val_loss: 3.2047e-04\n",
            "Epoch 25/200\n",
            "12/12 [==============================] - 1s 50ms/step - loss: 0.0023 - val_loss: 2.7470e-04\n",
            "Epoch 26/200\n",
            "12/12 [==============================] - 0s 33ms/step - loss: 0.0026 - val_loss: 2.6083e-04\n",
            "Epoch 27/200\n",
            "12/12 [==============================] - 0s 28ms/step - loss: 0.0025 - val_loss: 3.5785e-04\n",
            "Epoch 28/200\n",
            "12/12 [==============================] - 0s 34ms/step - loss: 0.0022 - val_loss: 3.1490e-04\n",
            "Epoch 29/200\n",
            "12/12 [==============================] - 0s 21ms/step - loss: 0.0025 - val_loss: 2.5438e-04\n",
            "Epoch 30/200\n",
            "12/12 [==============================] - 0s 36ms/step - loss: 0.0023 - val_loss: 2.9345e-04\n",
            "Epoch 31/200\n",
            "12/12 [==============================] - 0s 32ms/step - loss: 0.0048 - val_loss: 3.9954e-04\n",
            "Epoch 32/200\n",
            "12/12 [==============================] - 0s 36ms/step - loss: 0.0044 - val_loss: 4.6490e-04\n",
            "Epoch 33/200\n",
            "12/12 [==============================] - 0s 39ms/step - loss: 0.0040 - val_loss: 7.4504e-04\n",
            "Epoch 34/200\n",
            "12/12 [==============================] - 1s 46ms/step - loss: 0.0034 - val_loss: 2.7666e-04\n",
            "Epoch 35/200\n",
            "12/12 [==============================] - 0s 32ms/step - loss: 0.0024 - val_loss: 2.5338e-04\n",
            "Epoch 36/200\n",
            "12/12 [==============================] - 0s 20ms/step - loss: 0.0024 - val_loss: 3.1147e-04\n",
            "Epoch 37/200\n",
            "12/12 [==============================] - 0s 18ms/step - loss: 0.0030 - val_loss: 3.5443e-04\n",
            "Epoch 38/200\n",
            "12/12 [==============================] - 0s 18ms/step - loss: 0.0035 - val_loss: 7.2160e-04\n",
            "Epoch 39/200\n",
            "12/12 [==============================] - 0s 18ms/step - loss: 0.0034 - val_loss: 7.7577e-04\n",
            "Epoch 40/200\n",
            "12/12 [==============================] - 0s 18ms/step - loss: 0.0030 - val_loss: 3.0790e-04\n",
            "Epoch 41/200\n",
            "12/12 [==============================] - 0s 18ms/step - loss: 0.0025 - val_loss: 2.7771e-04\n",
            "Epoch 42/200\n",
            "12/12 [==============================] - 0s 18ms/step - loss: 0.0021 - val_loss: 2.6239e-04\n",
            "Epoch 43/200\n",
            "12/12 [==============================] - 0s 18ms/step - loss: 0.0019 - val_loss: 2.8544e-04\n",
            "Epoch 44/200\n",
            "12/12 [==============================] - 0s 18ms/step - loss: 0.0020 - val_loss: 2.7202e-04\n",
            "Epoch 45/200\n",
            "12/12 [==============================] - 0s 18ms/step - loss: 0.0024 - val_loss: 2.6131e-04\n",
            "Epoch 46/200\n",
            "12/12 [==============================] - 0s 17ms/step - loss: 0.0025 - val_loss: 2.5908e-04\n",
            "Epoch 47/200\n",
            "12/12 [==============================] - 0s 18ms/step - loss: 0.0023 - val_loss: 3.9343e-04\n",
            "Epoch 48/200\n",
            "12/12 [==============================] - 0s 17ms/step - loss: 0.0032 - val_loss: 3.4977e-04\n",
            "Epoch 49/200\n",
            "12/12 [==============================] - 0s 18ms/step - loss: 0.0035 - val_loss: 2.9841e-04\n",
            "Epoch 50/200\n",
            "12/12 [==============================] - 0s 19ms/step - loss: 0.0026 - val_loss: 2.9372e-04\n",
            "Epoch 51/200\n",
            "12/12 [==============================] - 0s 18ms/step - loss: 0.0026 - val_loss: 5.1690e-04\n",
            "Epoch 52/200\n",
            "12/12 [==============================] - 0s 18ms/step - loss: 0.0024 - val_loss: 3.2654e-04\n",
            "Epoch 53/200\n",
            "12/12 [==============================] - 0s 18ms/step - loss: 0.0026 - val_loss: 2.4705e-04\n",
            "Epoch 54/200\n",
            "12/12 [==============================] - 0s 19ms/step - loss: 0.0054 - val_loss: 5.9733e-04\n",
            "Epoch 55/200\n",
            "12/12 [==============================] - 0s 19ms/step - loss: 0.0038 - val_loss: 3.4191e-04\n",
            "Epoch 56/200\n",
            "12/12 [==============================] - 0s 26ms/step - loss: 0.0031 - val_loss: 3.9947e-04\n",
            "Epoch 57/200\n",
            "12/12 [==============================] - 0s 28ms/step - loss: 0.0019 - val_loss: 2.6568e-04\n",
            "Epoch 58/200\n",
            "12/12 [==============================] - 0s 27ms/step - loss: 0.0021 - val_loss: 2.9884e-04\n",
            "Epoch 59/200\n",
            "12/12 [==============================] - 0s 26ms/step - loss: 0.0024 - val_loss: 2.5591e-04\n",
            "Epoch 60/200\n",
            "12/12 [==============================] - 0s 29ms/step - loss: 0.0032 - val_loss: 3.4709e-04\n",
            "Epoch 61/200\n",
            "12/12 [==============================] - 0s 27ms/step - loss: 0.0020 - val_loss: 2.8148e-04\n",
            "Epoch 62/200\n",
            "12/12 [==============================] - 0s 26ms/step - loss: 0.0023 - val_loss: 2.9539e-04\n",
            "Epoch 63/200\n",
            "12/12 [==============================] - 0s 25ms/step - loss: 0.0018 - val_loss: 2.6691e-04\n",
            "Epoch 64/200\n",
            "12/12 [==============================] - 0s 19ms/step - loss: 0.0018 - val_loss: 2.5408e-04\n",
            "Epoch 65/200\n",
            "12/12 [==============================] - 0s 32ms/step - loss: 0.0019 - val_loss: 2.7796e-04\n",
            "Epoch 66/200\n",
            "12/12 [==============================] - 0s 36ms/step - loss: 0.0015 - val_loss: 2.5917e-04\n",
            "Epoch 67/200\n",
            "12/12 [==============================] - 0s 38ms/step - loss: 0.0016 - val_loss: 2.5024e-04\n",
            "Epoch 68/200\n",
            "12/12 [==============================] - 0s 34ms/step - loss: 0.0017 - val_loss: 2.4720e-04\n",
            "Epoch 69/200\n",
            "12/12 [==============================] - 0s 30ms/step - loss: 0.0015 - val_loss: 2.5189e-04\n",
            "Epoch 70/200\n",
            "12/12 [==============================] - 0s 18ms/step - loss: 0.0014 - val_loss: 2.7164e-04\n",
            "Epoch 71/200\n",
            "12/12 [==============================] - 0s 18ms/step - loss: 0.0016 - val_loss: 2.4748e-04\n",
            "Epoch 72/200\n",
            "12/12 [==============================] - 0s 18ms/step - loss: 0.0015 - val_loss: 2.8836e-04\n",
            "Epoch 73/200\n",
            "12/12 [==============================] - 0s 19ms/step - loss: 0.0015 - val_loss: 2.6320e-04\n",
            "Epoch 74/200\n",
            "12/12 [==============================] - 0s 18ms/step - loss: 0.0017 - val_loss: 2.6868e-04\n",
            "Epoch 75/200\n",
            "12/12 [==============================] - 0s 18ms/step - loss: 0.0015 - val_loss: 2.4829e-04\n",
            "Epoch 76/200\n",
            "12/12 [==============================] - 0s 18ms/step - loss: 0.0015 - val_loss: 2.4581e-04\n",
            "Epoch 77/200\n",
            "12/12 [==============================] - 0s 17ms/step - loss: 0.0014 - val_loss: 2.4599e-04\n",
            "Epoch 78/200\n",
            "12/12 [==============================] - 0s 19ms/step - loss: 0.0014 - val_loss: 2.5484e-04\n",
            "Epoch 79/200\n",
            "12/12 [==============================] - 0s 17ms/step - loss: 0.0014 - val_loss: 2.6004e-04\n",
            "Epoch 80/200\n",
            "12/12 [==============================] - 0s 18ms/step - loss: 0.0016 - val_loss: 2.5083e-04\n",
            "Epoch 81/200\n",
            "12/12 [==============================] - 0s 18ms/step - loss: 0.0013 - val_loss: 2.7329e-04\n",
            "Epoch 82/200\n",
            "12/12 [==============================] - 0s 17ms/step - loss: 0.0017 - val_loss: 2.8164e-04\n",
            "Epoch 83/200\n",
            "12/12 [==============================] - 0s 18ms/step - loss: 0.0016 - val_loss: 2.5520e-04\n",
            "Epoch 84/200\n",
            "12/12 [==============================] - 0s 21ms/step - loss: 0.0018 - val_loss: 2.5993e-04\n",
            "Epoch 85/200\n",
            "12/12 [==============================] - 0s 18ms/step - loss: 0.0048 - val_loss: 3.1938e-04\n",
            "Epoch 86/200\n",
            "12/12 [==============================] - 0s 19ms/step - loss: 0.0030 - val_loss: 3.1976e-04\n",
            "Epoch 87/200\n",
            "12/12 [==============================] - 0s 22ms/step - loss: 0.0023 - val_loss: 2.8817e-04\n",
            "Epoch 88/200\n",
            "12/12 [==============================] - 0s 17ms/step - loss: 0.0018 - val_loss: 3.3473e-04\n",
            "Epoch 89/200\n",
            "12/12 [==============================] - 0s 17ms/step - loss: 0.0016 - val_loss: 2.7413e-04\n",
            "Epoch 90/200\n",
            "12/12 [==============================] - 0s 18ms/step - loss: 0.0016 - val_loss: 2.8759e-04\n",
            "Epoch 91/200\n",
            "12/12 [==============================] - 0s 18ms/step - loss: 0.0013 - val_loss: 2.7974e-04\n",
            "Epoch 92/200\n",
            "12/12 [==============================] - 0s 18ms/step - loss: 0.0013 - val_loss: 2.4290e-04\n",
            "Epoch 93/200\n",
            "12/12 [==============================] - 0s 19ms/step - loss: 0.0013 - val_loss: 2.8807e-04\n",
            "Epoch 94/200\n",
            "12/12 [==============================] - 0s 18ms/step - loss: 0.0011 - val_loss: 2.5562e-04\n",
            "Epoch 95/200\n",
            "12/12 [==============================] - 0s 18ms/step - loss: 0.0014 - val_loss: 2.8703e-04\n",
            "Epoch 96/200\n",
            "12/12 [==============================] - 0s 19ms/step - loss: 0.0017 - val_loss: 2.4407e-04\n",
            "Epoch 97/200\n",
            "12/12 [==============================] - 0s 18ms/step - loss: 0.0014 - val_loss: 2.4297e-04\n",
            "Epoch 98/200\n",
            "12/12 [==============================] - 0s 18ms/step - loss: 9.9970e-04 - val_loss: 2.4179e-04\n",
            "Epoch 99/200\n",
            "12/12 [==============================] - 0s 19ms/step - loss: 0.0017 - val_loss: 2.4799e-04\n",
            "Epoch 100/200\n",
            "12/12 [==============================] - 0s 19ms/step - loss: 0.0016 - val_loss: 8.6450e-04\n",
            "Epoch 101/200\n",
            "12/12 [==============================] - 0s 20ms/step - loss: 0.0016 - val_loss: 2.5103e-04\n",
            "Epoch 102/200\n",
            "12/12 [==============================] - 0s 19ms/step - loss: 0.0013 - val_loss: 2.5037e-04\n",
            "Epoch 103/200\n",
            "12/12 [==============================] - 0s 21ms/step - loss: 0.0014 - val_loss: 2.4959e-04\n",
            "Epoch 104/200\n",
            "12/12 [==============================] - 0s 29ms/step - loss: 9.7933e-04 - val_loss: 2.4446e-04\n",
            "Epoch 105/200\n",
            "12/12 [==============================] - 0s 27ms/step - loss: 0.0013 - val_loss: 3.5196e-04\n",
            "Epoch 106/200\n",
            "12/12 [==============================] - 0s 25ms/step - loss: 0.0023 - val_loss: 2.5543e-04\n",
            "Epoch 107/200\n",
            "12/12 [==============================] - 0s 29ms/step - loss: 0.0016 - val_loss: 2.5491e-04\n",
            "Epoch 108/200\n",
            "12/12 [==============================] - 0s 29ms/step - loss: 0.0016 - val_loss: 2.5919e-04\n",
            "Epoch 109/200\n",
            "12/12 [==============================] - 0s 37ms/step - loss: 0.0016 - val_loss: 2.7804e-04\n",
            "Epoch 110/200\n",
            "12/12 [==============================] - 0s 25ms/step - loss: 0.0013 - val_loss: 2.4239e-04\n",
            "Epoch 111/200\n",
            "12/12 [==============================] - 0s 20ms/step - loss: 0.0015 - val_loss: 2.5001e-04\n",
            "Epoch 112/200\n",
            "12/12 [==============================] - 0s 19ms/step - loss: 0.0015 - val_loss: 2.5048e-04\n",
            "Epoch 113/200\n",
            "12/12 [==============================] - 0s 20ms/step - loss: 0.0010 - val_loss: 2.7713e-04\n",
            "Epoch 114/200\n",
            "12/12 [==============================] - 0s 20ms/step - loss: 0.0014 - val_loss: 2.4417e-04\n",
            "Epoch 115/200\n",
            "12/12 [==============================] - 0s 19ms/step - loss: 0.0010 - val_loss: 2.3817e-04\n",
            "Epoch 116/200\n",
            "12/12 [==============================] - 0s 22ms/step - loss: 0.0014 - val_loss: 2.3025e-04\n",
            "Epoch 117/200\n",
            "12/12 [==============================] - 0s 18ms/step - loss: 0.0018 - val_loss: 2.9029e-04\n",
            "Epoch 118/200\n",
            "12/12 [==============================] - 0s 19ms/step - loss: 0.0022 - val_loss: 2.3578e-04\n",
            "Epoch 119/200\n",
            "12/12 [==============================] - 0s 19ms/step - loss: 0.0015 - val_loss: 2.7635e-04\n",
            "Epoch 120/200\n",
            "12/12 [==============================] - 0s 18ms/step - loss: 0.0013 - val_loss: 2.3862e-04\n",
            "Epoch 121/200\n",
            "12/12 [==============================] - 0s 19ms/step - loss: 0.0013 - val_loss: 2.4087e-04\n",
            "Epoch 122/200\n",
            "12/12 [==============================] - 0s 18ms/step - loss: 0.0016 - val_loss: 2.6515e-04\n",
            "Epoch 123/200\n",
            "12/12 [==============================] - 0s 20ms/step - loss: 0.0010 - val_loss: 2.7997e-04\n",
            "Epoch 124/200\n",
            "12/12 [==============================] - 0s 19ms/step - loss: 8.9229e-04 - val_loss: 2.2625e-04\n",
            "Epoch 125/200\n",
            "12/12 [==============================] - 0s 19ms/step - loss: 9.0424e-04 - val_loss: 2.3761e-04\n",
            "Epoch 126/200\n",
            "12/12 [==============================] - 0s 19ms/step - loss: 0.0013 - val_loss: 2.9977e-04\n",
            "Epoch 127/200\n",
            "12/12 [==============================] - 0s 19ms/step - loss: 0.0013 - val_loss: 2.3918e-04\n",
            "Epoch 128/200\n",
            "12/12 [==============================] - 0s 18ms/step - loss: 0.0013 - val_loss: 2.3139e-04\n",
            "Epoch 129/200\n",
            "12/12 [==============================] - 0s 18ms/step - loss: 0.0011 - val_loss: 2.2242e-04\n",
            "Epoch 130/200\n",
            "12/12 [==============================] - 0s 19ms/step - loss: 9.8376e-04 - val_loss: 2.6384e-04\n",
            "Epoch 131/200\n",
            "12/12 [==============================] - 0s 18ms/step - loss: 8.3542e-04 - val_loss: 2.2583e-04\n",
            "Epoch 132/200\n",
            "12/12 [==============================] - 0s 19ms/step - loss: 0.0013 - val_loss: 2.2441e-04\n",
            "Epoch 133/200\n",
            "12/12 [==============================] - 0s 19ms/step - loss: 0.0012 - val_loss: 2.3363e-04\n",
            "Epoch 134/200\n",
            "12/12 [==============================] - 0s 20ms/step - loss: 9.9084e-04 - val_loss: 2.2178e-04\n",
            "Epoch 135/200\n",
            "12/12 [==============================] - 0s 18ms/step - loss: 9.1590e-04 - val_loss: 2.4288e-04\n",
            "Epoch 136/200\n",
            "12/12 [==============================] - 0s 19ms/step - loss: 0.0016 - val_loss: 2.5218e-04\n",
            "Epoch 137/200\n",
            "12/12 [==============================] - 0s 18ms/step - loss: 8.9057e-04 - val_loss: 2.9320e-04\n",
            "Epoch 138/200\n",
            "12/12 [==============================] - 0s 19ms/step - loss: 0.0011 - val_loss: 2.1836e-04\n",
            "Epoch 139/200\n",
            "12/12 [==============================] - 0s 20ms/step - loss: 0.0012 - val_loss: 2.4977e-04\n",
            "Epoch 140/200\n",
            "12/12 [==============================] - 0s 20ms/step - loss: 0.0017 - val_loss: 2.4955e-04\n",
            "Epoch 141/200\n",
            "12/12 [==============================] - 0s 20ms/step - loss: 0.0014 - val_loss: 2.6653e-04\n",
            "Epoch 142/200\n",
            "12/12 [==============================] - 0s 19ms/step - loss: 0.0011 - val_loss: 2.3123e-04\n",
            "Epoch 143/200\n",
            "12/12 [==============================] - 0s 19ms/step - loss: 0.0010 - val_loss: 2.1387e-04\n",
            "Epoch 144/200\n",
            "12/12 [==============================] - 0s 19ms/step - loss: 0.0012 - val_loss: 2.2266e-04\n",
            "Epoch 145/200\n",
            "12/12 [==============================] - 0s 19ms/step - loss: 0.0012 - val_loss: 2.2647e-04\n",
            "Epoch 146/200\n",
            "12/12 [==============================] - 0s 20ms/step - loss: 0.0015 - val_loss: 2.1602e-04\n",
            "Epoch 147/200\n",
            "12/12 [==============================] - 0s 19ms/step - loss: 6.6125e-04 - val_loss: 2.1286e-04\n",
            "Epoch 148/200\n",
            "12/12 [==============================] - 0s 19ms/step - loss: 0.0014 - val_loss: 2.2019e-04\n",
            "Epoch 149/200\n",
            "12/12 [==============================] - 0s 19ms/step - loss: 0.0011 - val_loss: 2.5152e-04\n",
            "Epoch 150/200\n",
            "12/12 [==============================] - 0s 19ms/step - loss: 0.0014 - val_loss: 2.3949e-04\n",
            "Epoch 151/200\n",
            "12/12 [==============================] - 0s 19ms/step - loss: 9.5337e-04 - val_loss: 2.5175e-04\n",
            "Epoch 152/200\n",
            "12/12 [==============================] - 0s 19ms/step - loss: 0.0011 - val_loss: 2.2066e-04\n",
            "Epoch 153/200\n",
            "12/12 [==============================] - 0s 24ms/step - loss: 8.8680e-04 - val_loss: 2.2117e-04\n",
            "Epoch 154/200\n",
            "12/12 [==============================] - 0s 36ms/step - loss: 7.4325e-04 - val_loss: 2.1297e-04\n",
            "Epoch 155/200\n",
            "12/12 [==============================] - 0s 27ms/step - loss: 7.4247e-04 - val_loss: 2.0806e-04\n",
            "Epoch 156/200\n",
            "12/12 [==============================] - 0s 28ms/step - loss: 6.4193e-04 - val_loss: 2.1726e-04\n",
            "Epoch 157/200\n",
            "12/12 [==============================] - 0s 30ms/step - loss: 0.0013 - val_loss: 2.0605e-04\n",
            "Epoch 158/200\n",
            "12/12 [==============================] - 0s 26ms/step - loss: 0.0015 - val_loss: 5.7424e-04\n",
            "Epoch 159/200\n",
            "12/12 [==============================] - 0s 28ms/step - loss: 0.0012 - val_loss: 2.6453e-04\n",
            "Epoch 160/200\n",
            "12/12 [==============================] - 0s 28ms/step - loss: 0.0012 - val_loss: 2.3413e-04\n",
            "Epoch 161/200\n",
            "12/12 [==============================] - 0s 22ms/step - loss: 0.0013 - val_loss: 2.1516e-04\n",
            "Epoch 162/200\n",
            "12/12 [==============================] - 0s 19ms/step - loss: 0.0017 - val_loss: 3.6395e-04\n",
            "Epoch 163/200\n",
            "12/12 [==============================] - 0s 17ms/step - loss: 9.0629e-04 - val_loss: 2.1123e-04\n",
            "Epoch 164/200\n",
            "12/12 [==============================] - 0s 20ms/step - loss: 7.4561e-04 - val_loss: 2.0782e-04\n",
            "Epoch 165/200\n",
            "12/12 [==============================] - 0s 19ms/step - loss: 6.7916e-04 - val_loss: 2.0601e-04\n",
            "Epoch 166/200\n",
            "12/12 [==============================] - 0s 18ms/step - loss: 0.0018 - val_loss: 3.2605e-04\n",
            "Epoch 167/200\n",
            "12/12 [==============================] - 0s 19ms/step - loss: 0.0021 - val_loss: 2.7927e-04\n",
            "Epoch 168/200\n",
            "12/12 [==============================] - 0s 18ms/step - loss: 0.0015 - val_loss: 2.6971e-04\n",
            "Epoch 169/200\n",
            "12/12 [==============================] - 0s 19ms/step - loss: 0.0011 - val_loss: 2.4724e-04\n",
            "Epoch 170/200\n",
            "12/12 [==============================] - 0s 18ms/step - loss: 0.0024 - val_loss: 4.1358e-04\n",
            "Epoch 171/200\n",
            "12/12 [==============================] - 0s 18ms/step - loss: 0.0014 - val_loss: 3.7236e-04\n",
            "Epoch 172/200\n",
            "12/12 [==============================] - 0s 18ms/step - loss: 0.0012 - val_loss: 2.0787e-04\n",
            "Epoch 173/200\n",
            "12/12 [==============================] - 0s 18ms/step - loss: 0.0011 - val_loss: 2.0693e-04\n",
            "Epoch 174/200\n",
            "12/12 [==============================] - 0s 22ms/step - loss: 0.0011 - val_loss: 2.3249e-04\n",
            "Epoch 175/200\n",
            "12/12 [==============================] - 0s 18ms/step - loss: 7.7967e-04 - val_loss: 2.2834e-04\n",
            "Epoch 176/200\n",
            "12/12 [==============================] - 0s 20ms/step - loss: 0.0015 - val_loss: 2.1267e-04\n",
            "Epoch 177/200\n",
            "12/12 [==============================] - 0s 18ms/step - loss: 7.0058e-04 - val_loss: 2.0277e-04\n",
            "Epoch 178/200\n",
            "12/12 [==============================] - 0s 20ms/step - loss: 9.5382e-04 - val_loss: 2.1943e-04\n",
            "Epoch 179/200\n",
            "12/12 [==============================] - 0s 19ms/step - loss: 0.0014 - val_loss: 2.4348e-04\n",
            "Epoch 180/200\n",
            "12/12 [==============================] - 0s 19ms/step - loss: 0.0012 - val_loss: 3.1769e-04\n",
            "Epoch 181/200\n",
            "12/12 [==============================] - 0s 18ms/step - loss: 0.0010 - val_loss: 2.1806e-04\n",
            "Epoch 182/200\n",
            "12/12 [==============================] - 0s 20ms/step - loss: 5.8642e-04 - val_loss: 1.9493e-04\n",
            "Epoch 183/200\n",
            "12/12 [==============================] - 0s 19ms/step - loss: 9.4467e-04 - val_loss: 2.0521e-04\n",
            "Epoch 184/200\n",
            "12/12 [==============================] - 0s 19ms/step - loss: 0.0012 - val_loss: 2.2282e-04\n",
            "Epoch 185/200\n",
            "12/12 [==============================] - 0s 20ms/step - loss: 0.0013 - val_loss: 2.5368e-04\n",
            "Epoch 186/200\n",
            "12/12 [==============================] - 0s 18ms/step - loss: 8.0183e-04 - val_loss: 1.9307e-04\n",
            "Epoch 187/200\n",
            "12/12 [==============================] - 0s 19ms/step - loss: 9.6105e-04 - val_loss: 2.4270e-04\n",
            "Epoch 188/200\n",
            "12/12 [==============================] - 0s 19ms/step - loss: 8.1764e-04 - val_loss: 2.0639e-04\n",
            "Epoch 189/200\n",
            "12/12 [==============================] - 0s 18ms/step - loss: 8.7590e-04 - val_loss: 2.0963e-04\n",
            "Epoch 190/200\n",
            "12/12 [==============================] - 0s 19ms/step - loss: 0.0010 - val_loss: 1.9100e-04\n",
            "Epoch 191/200\n",
            "12/12 [==============================] - 0s 19ms/step - loss: 7.4770e-04 - val_loss: 1.8158e-04\n",
            "Epoch 192/200\n",
            "12/12 [==============================] - 0s 20ms/step - loss: 0.0011 - val_loss: 2.3918e-04\n",
            "Epoch 193/200\n",
            "12/12 [==============================] - 0s 18ms/step - loss: 0.0010 - val_loss: 1.8371e-04\n",
            "Epoch 194/200\n",
            "12/12 [==============================] - 0s 23ms/step - loss: 7.4845e-04 - val_loss: 1.9322e-04\n",
            "Epoch 195/200\n",
            "12/12 [==============================] - 0s 20ms/step - loss: 8.0519e-04 - val_loss: 1.9584e-04\n",
            "Epoch 196/200\n",
            "12/12 [==============================] - 0s 19ms/step - loss: 9.1813e-04 - val_loss: 1.8906e-04\n",
            "Epoch 197/200\n",
            "12/12 [==============================] - 0s 20ms/step - loss: 7.5072e-04 - val_loss: 1.8060e-04\n",
            "Epoch 198/200\n",
            "12/12 [==============================] - 0s 18ms/step - loss: 9.2310e-04 - val_loss: 1.9506e-04\n",
            "Epoch 199/200\n",
            "12/12 [==============================] - 0s 19ms/step - loss: 5.6588e-04 - val_loss: 1.8661e-04\n",
            "Epoch 200/200\n",
            "12/12 [==============================] - 0s 21ms/step - loss: 5.2081e-04 - val_loss: 1.9205e-04\n"
          ]
        },
        {
          "output_type": "execute_result",
          "data": {
            "text/plain": [
              "<keras.callbacks.History at 0x7fafb8cd8310>"
            ]
          },
          "metadata": {},
          "execution_count": 93
        }
      ]
    },
    {
      "cell_type": "markdown",
      "source": [
        "# Predict and plot Output of test data"
      ],
      "metadata": {
        "id": "642824hsDr1l"
      }
    },
    {
      "cell_type": "code",
      "source": [
        "train_predict = model.predict(X_train)\n",
        "test_predict = model.predict(X_test)"
      ],
      "metadata": {
        "colab": {
          "base_uri": "https://localhost:8080/"
        },
        "id": "Fq_PPf-I0X-j",
        "outputId": "cd60e8d6-ccbc-40a7-d078-1b1810d4a466"
      },
      "execution_count": 94,
      "outputs": [
        {
          "output_type": "stream",
          "name": "stdout",
          "text": [
            "23/23 [==============================] - 1s 9ms/step\n",
            "11/11 [==============================] - 0s 8ms/step\n"
          ]
        }
      ]
    },
    {
      "cell_type": "code",
      "source": [
        "train_predict = scaler.inverse_transform(train_predict)\n",
        "test_predict = scaler.inverse_transform(test_predict)"
      ],
      "metadata": {
        "id": "TbLod--l0txD"
      },
      "execution_count": 95,
      "outputs": []
    },
    {
      "cell_type": "code",
      "source": [
        "import math\n",
        "from sklearn.metrics import mean_squared_error\n",
        "math.sqrt(mean_squared_error(y_train,train_predict))"
      ],
      "metadata": {
        "colab": {
          "base_uri": "https://localhost:8080/"
        },
        "id": "76E8i2pn07Ph",
        "outputId": "febc2c33-06a0-4dbc-f7e7-9f34bb7d1519"
      },
      "execution_count": 96,
      "outputs": [
        {
          "output_type": "execute_result",
          "data": {
            "text/plain": [
              "225.08033022698672"
            ]
          },
          "metadata": {},
          "execution_count": 96
        }
      ]
    },
    {
      "cell_type": "code",
      "source": [
        "math.sqrt(mean_squared_error(y_test,test_predict))"
      ],
      "metadata": {
        "colab": {
          "base_uri": "https://localhost:8080/"
        },
        "id": "_lcZb4BN1OkR",
        "outputId": "2ec5259e-8243-4541-c8c9-fb2aa80c2b2d"
      },
      "execution_count": 97,
      "outputs": [
        {
          "output_type": "execute_result",
          "data": {
            "text/plain": [
              "153.8746020473499"
            ]
          },
          "metadata": {},
          "execution_count": 97
        }
      ]
    },
    {
      "cell_type": "code",
      "source": [
        "look_back = 100\n",
        "trainPredictPlot = np.empty_like(df1)\n",
        "trainPredictPlot[:, :] = np.nan\n",
        "trainPredictPlot[look_back:len(train_predict) + look_back, :] = train_predict\n",
        "\n",
        "testPredictPlot = np.empty_like(df1)\n",
        "testPredictPlot[:, :] = np.nan\n",
        "testPredictPlot[len(train_predict) + (look_back*2)+1:len(df1)-1, :] = test_predict\n",
        "\n",
        "plt.plot(scaler.inverse_transform(df1))\n",
        "plt.plot(trainPredictPlot)\n",
        "plt.plot(testPredictPlot)\n",
        "plt.show()\n"
      ],
      "metadata": {
        "colab": {
          "base_uri": "https://localhost:8080/",
          "height": 430
        },
        "id": "6weam-sZ1YiQ",
        "outputId": "c15a9d7e-8cf2-449b-ae14-21e2cb26f2ef"
      },
      "execution_count": 115,
      "outputs": [
        {
          "output_type": "display_data",
          "data": {
            "text/plain": [
              "<Figure size 640x480 with 1 Axes>"
            ],
            "image/png": "[encoded data removed]"
          },
          "metadata": {}
        }
      ]
    },
    {
      "cell_type": "markdown",
      "source": [
        "# Predict and Plot Future 30 days Stock Data"
      ],
      "metadata": {
        "id": "8cboZJa5DfVP"
      }
    },
    {
      "cell_type": "code",
      "source": [
        "len(test_data)"
      ],
      "metadata": {
        "colab": {
          "base_uri": "https://localhost:8080/"
        },
        "id": "95uL_M8U4VJt",
        "outputId": "23b85303-a405-460e-8c15-f0a5e19bab8f"
      },
      "execution_count": 99,
      "outputs": [
        {
          "output_type": "execute_result",
          "data": {
            "text/plain": [
              "440"
            ]
          },
          "metadata": {},
          "execution_count": 99
        }
      ]
    },
    {
      "cell_type": "code",
      "source": [
        "x_input = test_data[340:].reshape(1,-1)\n",
        "x_input.shape"
      ],
      "metadata": {
        "colab": {
          "base_uri": "https://localhost:8080/"
        },
        "id": "N0GRGSD-4YuV",
        "outputId": "66c8e338-0ab6-4a24-e414-c3b3a6e404dd"
      },
      "execution_count": 100,
      "outputs": [
        {
          "output_type": "execute_result",
          "data": {
            "text/plain": [
              "(1, 100)"
            ]
          },
          "metadata": {},
          "execution_count": 100
        }
      ]
    },
    {
      "cell_type": "code",
      "source": [
        "temp_input = list(x_input)\n",
        "temp_input = temp_input[0].tolist()"
      ],
      "metadata": {
        "id": "3-A-DRW64pdj"
      },
      "execution_count": 101,
      "outputs": []
    },
    {
      "cell_type": "code",
      "source": [
        "# demonstrate prediction for next 30 days\n",
        "\n",
        "from numpy import array\n",
        "\n",
        "First_output = []\n",
        "n_steps = 100\n",
        "i=0\n",
        "while(i<30):\n",
        "\n",
        "  if(len(temp_input)>100):\n",
        "    x_input = np.array(temp_input[1:])\n",
        "    x_input = x_input.reshape(1,-1)\n",
        "    x_input = x_input.reshape((1,n_steps,1))\n",
        "\n",
        "    yhat = model.predict(x_input, verbose=0)\n",
        "    print(\"{} day output\".format(i,yhat))\n",
        "    temp_input.extend(yhat[0].tolist())\n",
        "    temp_input = temp_input[1:]\n",
        "    First_output.extend(yhat.tolist())\n",
        "    i = i+1\n",
        "  else:\n",
        "    x_input = x_input.reshape((1,n_steps,1))\n",
        "    yhat = model.predict(x_input, verbose=0)\n",
        "    print(yhat[0])\n",
        "    temp_input.extend(yhat[0].tolist())\n",
        "    temp_input = temp_input[1:]\n",
        "    First_output.extend(yhat.tolist())\n",
        "    i = i+1\n",
        "\n",
        "print(First_output)    \n",
        "\n"
      ],
      "metadata": {
        "colab": {
          "base_uri": "https://localhost:8080/"
        },
        "id": "fYsf3eu65B9X",
        "outputId": "fe506541-a04b-43cd-dd95-c6e60d0054d6"
      },
      "execution_count": 102,
      "outputs": [
        {
          "output_type": "stream",
          "name": "stdout",
          "text": [
            "[0.1403755]\n",
            "[0.1403755]\n",
            "[0.1403755]\n",
            "[0.1403755]\n",
            "[0.1403755]\n",
            "[0.1403755]\n",
            "[0.1403755]\n",
            "[0.1403755]\n",
            "[0.1403755]\n",
            "[0.1403755]\n",
            "[0.1403755]\n",
            "[0.1403755]\n",
            "[0.1403755]\n",
            "[0.1403755]\n",
            "[0.1403755]\n",
            "[0.1403755]\n",
            "[0.1403755]\n",
            "[0.1403755]\n",
            "[0.1403755]\n",
            "[0.1403755]\n",
            "[0.1403755]\n",
            "[0.1403755]\n",
            "[0.1403755]\n",
            "[0.1403755]\n",
            "[0.1403755]\n",
            "[0.1403755]\n",
            "[0.1403755]\n",
            "[0.1403755]\n",
            "[0.1403755]\n",
            "[0.1403755]\n",
            "[[0.14037549495697021], [0.14037549495697021], [0.14037549495697021], [0.14037549495697021], [0.14037549495697021], [0.14037549495697021], [0.14037549495697021], [0.14037549495697021], [0.14037549495697021], [0.14037549495697021], [0.14037549495697021], [0.14037549495697021], [0.14037549495697021], [0.14037549495697021], [0.14037549495697021], [0.14037549495697021], [0.14037549495697021], [0.14037549495697021], [0.14037549495697021], [0.14037549495697021], [0.14037549495697021], [0.14037549495697021], [0.14037549495697021], [0.14037549495697021], [0.14037549495697021], [0.14037549495697021], [0.14037549495697021], [0.14037549495697021], [0.14037549495697021], [0.14037549495697021]]\n"
          ]
        }
      ]
    },
    {
      "cell_type": "code",
      "source": [
        "day_new = np.arange(1,101)\n",
        "day_pred = np.arange(101,131)"
      ],
      "metadata": {
        "id": "n6SamS9m9470"
      },
      "execution_count": 106,
      "outputs": []
    },
    {
      "cell_type": "code",
      "source": [
        "len(df1)"
      ],
      "metadata": {
        "colab": {
          "base_uri": "https://localhost:8080/"
        },
        "id": "hFNuHLPg-Als",
        "outputId": "d2d04366-d08b-4985-a184-53aec2480d63"
      },
      "execution_count": 107,
      "outputs": [
        {
          "output_type": "execute_result",
          "data": {
            "text/plain": [
              "1257"
            ]
          },
          "metadata": {},
          "execution_count": 107
        }
      ]
    },
    {
      "cell_type": "code",
      "source": [
        "df3 = df1.tolist()\n",
        "df3.extend(First_output)"
      ],
      "metadata": {
        "id": "k9Ep7Q2Y-JsA"
      },
      "execution_count": 108,
      "outputs": []
    },
    {
      "cell_type": "code",
      "source": [
        "plt.plot(day_new,scaler.inverse_transform(df1[1157:]))\n",
        "plt.plot(day_pred,scaler.inverse_transform(First_output))"
      ],
      "metadata": {
        "colab": {
          "base_uri": "https://localhost:8080/",
          "height": 448
        },
        "id": "v_WHPNNl-Rn3",
        "outputId": "b730fc6f-3d9f-41af-b097-4fd64c9f69f8"
      },
      "execution_count": 111,
      "outputs": [
        {
          "output_type": "execute_result",
          "data": {
            "text/plain": [
              "[<matplotlib.lines.Line2D at 0x7fafb7f36df0>]"
            ]
          },
          "metadata": {},
          "execution_count": 111
        },
        {
          "output_type": "display_data",
          "data": {
            "text/plain": [
              "<Figure size 640x480 with 1 Axes>"
            ],
            "image/png": "[encoded data removed]"
          },
          "metadata": {}
        }
      ]
    },
    {
      "cell_type": "code",
      "source": [
        "df3 = df1.tolist()\n",
        "df3.extend(First_output)\n",
        "plt.plot(df3[1200:])"
      ],
      "metadata": {
        "colab": {
          "base_uri": "https://localhost:8080/",
          "height": 448
        },
        "id": "bUTEt-vNCDlk",
        "outputId": "969bf44e-b955-4272-f7b1-57950dced6ae"
      },
      "execution_count": 112,
      "outputs": [
        {
          "output_type": "execute_result",
          "data": {
            "text/plain": [
              "[<matplotlib.lines.Line2D at 0x7fafb9cac3a0>]"
            ]
          },
          "metadata": {},
          "execution_count": 112
        },
        {
          "output_type": "display_data",
          "data": {
            "text/plain": [
              "<Figure size 640x480 with 1 Axes>"
            ],
            "image/png": "[encoded data removed]"
          },
          "metadata": {}
        }
      ]
    }
  ]
}