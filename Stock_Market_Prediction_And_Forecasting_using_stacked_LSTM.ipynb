{
  "nbformat": 4,
  "nbformat_minor": 0,
  "metadata": {
    "colab": {
      "provenance": [],
      "authorship_tag": "ABX9TyMQtDwLZD9YB6NPO9Vr+thN",
      "include_colab_link": true
    },
    "kernelspec": {
      "name": "python3",
      "display_name": "Python 3"
    },
    "language_info": {
      "name": "python"
    }
  },
  "cells": [
    {
      "cell_type": "markdown",
      "metadata": {
        "id": "view-in-github",
        "colab_type": "text"
      },
      "source": [
        "<a href=\"https://colab.research.google.com/github/rkp74/Stock_Price_Prediction_using_LSTM/blob/main/Stock_Market_Prediction_And_Forecasting_using_stacked_LSTM.ipynb\" target=\"_parent\"><img src=\"https://colab.research.google.com/assets/colab-badge.svg\" alt=\"Open In Colab\"/></a>"
      ]
    },
    {
      "cell_type": "code",
      "execution_count": 25,
      "metadata": {
        "id": "J3zbgaqJX91V"
      },
      "outputs": [],
      "source": [
        "import pandas_datareader as pdr"
      ]
    },
    {
      "cell_type": "code",
      "source": [
        "df = pdr.get_data_tiingo('AAPL' , api_key = \"\")"
      ],
      "metadata": {
        "colab": {
          "base_uri": "https://localhost:8080/"
        },
        "id": "eYh5BsP7YrwJ",
        "outputId": "eef55558-615b-4b4e-d80e-d5ce74e21c0a"
      },
      "execution_count": 26,
      "outputs": [
        {
          "output_type": "stream",
          "name": "stderr",
          "text": [
            "/usr/local/lib/python3.9/dist-packages/pandas_datareader/tiingo.py:234: FutureWarning: In a future version of pandas all arguments of concat except for the argument 'objs' will be keyword-only.\n",
            "  return pd.concat(dfs, self._concat_axis)\n"
          ]
        }
      ]
    },
    {
      "cell_type": "code",
      "source": [
        "df.to_csv('AAPL.csv')"
      ],
      "metadata": {
        "id": "E5DqQ-26Z4w_"
      },
      "execution_count": 27,
      "outputs": []
    },
    {
      "cell_type": "code",
      "source": [
        "import pandas as pd"
      ],
      "metadata": {
        "id": "Ng4ofFFaaFd9"
      },
      "execution_count": 28,
      "outputs": []
    },
    {
      "cell_type": "code",
      "source": [
        "df = pd.read_csv('AAPL.csv')"
      ],
      "metadata": {
        "id": "fbhUBRhvaJHB"
      },
      "execution_count": 29,
      "outputs": []
    },
    {
      "cell_type": "code",
      "source": [
        "df.head()"
      ],
      "metadata": {
        "colab": {
          "base_uri": "https://localhost:8080/",
          "height": 206
        },
        "id": "KymyVlraaVHY",
        "outputId": "9e5ee4b2-a329-474a-f668-ff0fab00c60f"
      },
      "execution_count": 30,
      "outputs": [
        {
          "output_type": "execute_result",
          "data": {
            "text/plain": [
              "  symbol                       date   close    high     low    open    volume  \\\n",
              "0   AAPL  2018-04-11 00:00:00+00:00  172.44  173.92  171.70  172.23  22431640   \n",
              "1   AAPL  2018-04-12 00:00:00+00:00  174.14  175.00  173.04  173.41  22889285   \n",
              "2   AAPL  2018-04-13 00:00:00+00:00  174.73  175.84  173.85  174.78  25124255   \n",
              "3   AAPL  2018-04-16 00:00:00+00:00  175.82  176.19  174.83  175.03  21578420   \n",
              "4   AAPL  2018-04-17 00:00:00+00:00  178.24  178.94  176.41  176.49  26605442   \n",
              "\n",
              "    adjClose    adjHigh     adjLow    adjOpen  adjVolume  divCash  splitFactor  \n",
              "0  41.042029  41.394281  40.865904  40.992048   89726560      0.0          1.0  \n",
              "1  41.446642  41.651329  41.184834  41.272897   91557140      0.0          1.0  \n",
              "2  41.587067  41.851255  41.377620  41.598967  100497020      0.0          1.0  \n",
              "3  41.846495  41.934558  41.610867  41.658469   86313680      0.0          1.0  \n",
              "4  42.422473  42.589079  41.986919  42.005960  106421768      0.0          1.0  "
            ],
            "text/html": [
              "\n",
              "  <div id=\"df-9884a459-27bc-4988-acc8-7827bb157ad7\">\n",
              "    <div class=\"colab-df-container\">\n",
              "      <div>\n",
              "<style scoped>\n",
              "    .dataframe tbody tr th:only-of-type {\n",
              "        vertical-align: middle;\n",
              "    }\n",
              "\n",
              "    .dataframe tbody tr th {\n",
              "        vertical-align: top;\n",
              "    }\n",
              "\n",
              "    .dataframe thead th {\n",
              "        text-align: right;\n",
              "    }\n",
              "</style>\n",
              "<table border=\"1\" class=\"dataframe\">\n",
              "  <thead>\n",
              "    <tr style=\"text-align: right;\">\n",
              "      <th></th>\n",
              "      <th>symbol</th>\n",
              "      <th>date</th>\n",
              "      <th>close</th>\n",
              "      <th>high</th>\n",
              "      <th>low</th>\n",
              "      <th>open</th>\n",
              "      <th>volume</th>\n",
              "      <th>adjClose</th>\n",
              "      <th>adjHigh</th>\n",
              "      <th>adjLow</th>\n",
              "      <th>adjOpen</th>\n",
              "      <th>adjVolume</th>\n",
              "      <th>divCash</th>\n",
              "      <th>splitFactor</th>\n",
              "    </tr>\n",
              "  </thead>\n",
              "  <tbody>\n",
              "    <tr>\n",
              "      <th>0</th>\n",
              "      <td>AAPL</td>\n",
              "      <td>2018-04-11 00:00:00+00:00</td>\n",
              "      <td>172.44</td>\n",
              "      <td>173.92</td>\n",
              "      <td>171.70</td>\n",
              "      <td>172.23</td>\n",
              "      <td>22431640</td>\n",
              "      <td>41.042029</td>\n",
              "      <td>41.394281</td>\n",
              "      <td>40.865904</td>\n",
              "      <td>40.992048</td>\n",
              "      <td>89726560</td>\n",
              "      <td>0.0</td>\n",
              "      <td>1.0</td>\n",
              "    </tr>\n",
              "    <tr>\n",
              "      <th>1</th>\n",
              "      <td>AAPL</td>\n",
              "      <td>2018-04-12 00:00:00+00:00</td>\n",
              "      <td>174.14</td>\n",
              "      <td>175.00</td>\n",
              "      <td>173.04</td>\n",
              "      <td>173.41</td>\n",
              "      <td>22889285</td>\n",
              "      <td>41.446642</td>\n",
              "      <td>41.651329</td>\n",
              "      <td>41.184834</td>\n",
              "      <td>41.272897</td>\n",
              "      <td>91557140</td>\n",
              "      <td>0.0</td>\n",
              "      <td>1.0</td>\n",
              "    </tr>\n",
              "    <tr>\n",
              "      <th>2</th>\n",
              "      <td>AAPL</td>\n",
              "      <td>2018-04-13 00:00:00+00:00</td>\n",
              "      <td>174.73</td>\n",
              "      <td>175.84</td>\n",
              "      <td>173.85</td>\n",
              "      <td>174.78</td>\n",
              "      <td>25124255</td>\n",
              "      <td>41.587067</td>\n",
              "      <td>41.851255</td>\n",
              "      <td>41.377620</td>\n",
              "      <td>41.598967</td>\n",
              "      <td>100497020</td>\n",
              "      <td>0.0</td>\n",
              "      <td>1.0</td>\n",
              "    </tr>\n",
              "    <tr>\n",
              "      <th>3</th>\n",
              "      <td>AAPL</td>\n",
              "      <td>2018-04-16 00:00:00+00:00</td>\n",
              "      <td>175.82</td>\n",
              "      <td>176.19</td>\n",
              "      <td>174.83</td>\n",
              "      <td>175.03</td>\n",
              "      <td>21578420</td>\n",
              "      <td>41.846495</td>\n",
              "      <td>41.934558</td>\n",
              "      <td>41.610867</td>\n",
              "      <td>41.658469</td>\n",
              "      <td>86313680</td>\n",
              "      <td>0.0</td>\n",
              "      <td>1.0</td>\n",
              "    </tr>\n",
              "    <tr>\n",
              "      <th>4</th>\n",
              "      <td>AAPL</td>\n",
              "      <td>2018-04-17 00:00:00+00:00</td>\n",
              "      <td>178.24</td>\n",
              "      <td>178.94</td>\n",
              "      <td>176.41</td>\n",
              "      <td>176.49</td>\n",
              "      <td>26605442</td>\n",
              "      <td>42.422473</td>\n",
              "      <td>42.589079</td>\n",
              "      <td>41.986919</td>\n",
              "      <td>42.005960</td>\n",
              "      <td>106421768</td>\n",
              "      <td>0.0</td>\n",
              "      <td>1.0</td>\n",
              "    </tr>\n",
              "  </tbody>\n",
              "</table>\n",
              "</div>\n",
              "      <button class=\"colab-df-convert\" onclick=\"convertToInteractive('df-9884a459-27bc-4988-acc8-7827bb157ad7')\"\n",
              "              title=\"Convert this dataframe to an interactive table.\"\n",
              "              style=\"display:none;\">\n",
              "        \n",
              "  <svg xmlns=\"http://www.w3.org/2000/svg\" height=\"24px\"viewBox=\"0 0 24 24\"\n",
              "       width=\"24px\">\n",
              "    <path d=\"M0 0h24v24H0V0z\" fill=\"none\"/>\n",
              "    <path d=\"M18.56 5.44l.94 2.06.94-2.06 2.06-.94-2.06-.94-.94-2.06-.94 2.06-2.06.94zm-11 1L8.5 8.5l.94-2.06 2.06-.94-2.06-.94L8.5 2.5l-.94 2.06-2.06.94zm10 10l.94 2.06.94-2.06 2.06-.94-2.06-.94-.94-2.06-.94 2.06-2.06.94z\"/><path d=\"M17.41 7.96l-1.37-1.37c-.4-.4-.92-.59-1.43-.59-.52 0-1.04.2-1.43.59L10.3 9.45l-7.72 7.72c-.78.78-.78 2.05 0 2.83L4 21.41c.39.39.9.59 1.41.59.51 0 1.02-.2 1.41-.59l7.78-7.78 2.81-2.81c.8-.78.8-2.07 0-2.86zM5.41 20L4 18.59l7.72-7.72 1.47 1.35L5.41 20z\"/>\n",
              "  </svg>\n",
              "      </button>\n",
              "      \n",
              "  <style>\n",
              "    .colab-df-container {\n",
              "      display:flex;\n",
              "      flex-wrap:wrap;\n",
              "      gap: 12px;\n",
              "    }\n",
              "\n",
              "    .colab-df-convert {\n",
              "      background-color: #E8F0FE;\n",
              "      border: none;\n",
              "      border-radius: 50%;\n",
              "      cursor: pointer;\n",
              "      display: none;\n",
              "      fill: #1967D2;\n",
              "      height: 32px;\n",
              "      padding: 0 0 0 0;\n",
              "      width: 32px;\n",
              "    }\n",
              "\n",
              "    .colab-df-convert:hover {\n",
              "      background-color: #E2EBFA;\n",
              "      box-shadow: 0px 1px 2px rgba(60, 64, 67, 0.3), 0px 1px 3px 1px rgba(60, 64, 67, 0.15);\n",
              "      fill: #174EA6;\n",
              "    }\n",
              "\n",
              "    [theme=dark] .colab-df-convert {\n",
              "      background-color: #3B4455;\n",
              "      fill: #D2E3FC;\n",
              "    }\n",
              "\n",
              "    [theme=dark] .colab-df-convert:hover {\n",
              "      background-color: #434B5C;\n",
              "      box-shadow: 0px 1px 3px 1px rgba(0, 0, 0, 0.15);\n",
              "      filter: drop-shadow(0px 1px 2px rgba(0, 0, 0, 0.3));\n",
              "      fill: #FFFFFF;\n",
              "    }\n",
              "  </style>\n",
              "\n",
              "      <script>\n",
              "        const buttonEl =\n",
              "          document.querySelector('#df-9884a459-27bc-4988-acc8-7827bb157ad7 button.colab-df-convert');\n",
              "        buttonEl.style.display =\n",
              "          google.colab.kernel.accessAllowed ? 'block' : 'none';\n",
              "\n",
              "        async function convertToInteractive(key) {\n",
              "          const element = document.querySelector('#df-9884a459-27bc-4988-acc8-7827bb157ad7');\n",
              "          const dataTable =\n",
              "            await google.colab.kernel.invokeFunction('convertToInteractive',\n",
              "                                                     [key], {});\n",
              "          if (!dataTable) return;\n",
              "\n",
              "          const docLinkHtml = 'Like what you see? Visit the ' +\n",
              "            '<a target=\"_blank\" href=https://colab.research.google.com/notebooks/data_table.ipynb>data table notebook</a>'\n",
              "            + ' to learn more about interactive tables.';\n",
              "          element.innerHTML = '';\n",
              "          dataTable['output_type'] = 'display_data';\n",
              "          await google.colab.output.renderOutput(dataTable, element);\n",
              "          const docLink = document.createElement('div');\n",
              "          docLink.innerHTML = docLinkHtml;\n",
              "          element.appendChild(docLink);\n",
              "        }\n",
              "      </script>\n",
              "    </div>\n",
              "  </div>\n",
              "  "
            ]
          },
          "metadata": {},
          "execution_count": 30
        }
      ]
    },
    {
      "cell_type": "code",
      "source": [
        "df.tail()"
      ],
      "metadata": {
        "colab": {
          "base_uri": "https://localhost:8080/",
          "height": 206
        },
        "id": "Y8iwSSBBIfdE",
        "outputId": "6b19025e-cb13-4ea1-91fb-21b7115777e3"
      },
      "execution_count": 31,
      "outputs": [
        {
          "output_type": "execute_result",
          "data": {
            "text/plain": [
              "     symbol                       date   close      high     low     open  \\\n",
              "1252   AAPL  2023-03-31 00:00:00+00:00  164.90  165.0000  161.91  162.440   \n",
              "1253   AAPL  2023-04-03 00:00:00+00:00  166.17  166.2900  164.22  164.270   \n",
              "1254   AAPL  2023-04-04 00:00:00+00:00  165.63  166.8400  165.11  166.595   \n",
              "1255   AAPL  2023-04-05 00:00:00+00:00  163.76  165.0500  161.80  164.740   \n",
              "1256   AAPL  2023-04-06 00:00:00+00:00  164.66  164.9584  162.00  162.430   \n",
              "\n",
              "        volume  adjClose   adjHigh  adjLow  adjOpen  adjVolume  divCash  \\\n",
              "1252  68749792    164.90  165.0000  161.91  162.440   68749792      0.0   \n",
              "1253  56976187    166.17  166.2900  164.22  164.270   56976187      0.0   \n",
              "1254  46278295    165.63  166.8400  165.11  166.595   46278295      0.0   \n",
              "1255  51511744    163.76  165.0500  161.80  164.740   51511744      0.0   \n",
              "1256  45390123    164.66  164.9584  162.00  162.430   45390123      0.0   \n",
              "\n",
              "      splitFactor  \n",
              "1252          1.0  \n",
              "1253          1.0  \n",
              "1254          1.0  \n",
              "1255          1.0  \n",
              "1256          1.0  "
            ],
            "text/html": [
              "\n",
              "  <div id=\"df-ac841c9d-c705-4485-8fb9-e1f33e0f3ea3\">\n",
              "    <div class=\"colab-df-container\">\n",
              "      <div>\n",
              "<style scoped>\n",
              "    .dataframe tbody tr th:only-of-type {\n",
              "        vertical-align: middle;\n",
              "    }\n",
              "\n",
              "    .dataframe tbody tr th {\n",
              "        vertical-align: top;\n",
              "    }\n",
              "\n",
              "    .dataframe thead th {\n",
              "        text-align: right;\n",
              "    }\n",
              "</style>\n",
              "<table border=\"1\" class=\"dataframe\">\n",
              "  <thead>\n",
              "    <tr style=\"text-align: right;\">\n",
              "      <th></th>\n",
              "      <th>symbol</th>\n",
              "      <th>date</th>\n",
              "      <th>close</th>\n",
              "      <th>high</th>\n",
              "      <th>low</th>\n",
              "      <th>open</th>\n",
              "      <th>volume</th>\n",
              "      <th>adjClose</th>\n",
              "      <th>adjHigh</th>\n",
              "      <th>adjLow</th>\n",
              "      <th>adjOpen</th>\n",
              "      <th>adjVolume</th>\n",
              "      <th>divCash</th>\n",
              "      <th>splitFactor</th>\n",
              "    </tr>\n",
              "  </thead>\n",
              "  <tbody>\n",
              "    <tr>\n",
              "      <th>1252</th>\n",
              "      <td>AAPL</td>\n",
              "      <td>2023-03-31 00:00:00+00:00</td>\n",
              "      <td>164.90</td>\n",
              "      <td>165.0000</td>\n",
              "      <td>161.91</td>\n",
              "      <td>162.440</td>\n",
              "      <td>68749792</td>\n",
              "      <td>164.90</td>\n",
              "      <td>165.0000</td>\n",
              "      <td>161.91</td>\n",
              "      <td>162.440</td>\n",
              "      <td>68749792</td>\n",
              "      <td>0.0</td>\n",
              "      <td>1.0</td>\n",
              "    </tr>\n",
              "    <tr>\n",
              "      <th>1253</th>\n",
              "      <td>AAPL</td>\n",
              "      <td>2023-04-03 00:00:00+00:00</td>\n",
              "      <td>166.17</td>\n",
              "      <td>166.2900</td>\n",
              "      <td>164.22</td>\n",
              "      <td>164.270</td>\n",
              "      <td>56976187</td>\n",
              "      <td>166.17</td>\n",
              "      <td>166.2900</td>\n",
              "      <td>164.22</td>\n",
              "      <td>164.270</td>\n",
              "      <td>56976187</td>\n",
              "      <td>0.0</td>\n",
              "      <td>1.0</td>\n",
              "    </tr>\n",
              "    <tr>\n",
              "      <th>1254</th>\n",
              "      <td>AAPL</td>\n",
              "      <td>2023-04-04 00:00:00+00:00</td>\n",
              "      <td>165.63</td>\n",
              "      <td>166.8400</td>\n",
              "      <td>165.11</td>\n",
              "      <td>166.595</td>\n",
              "      <td>46278295</td>\n",
              "      <td>165.63</td>\n",
              "      <td>166.8400</td>\n",
              "      <td>165.11</td>\n",
              "      <td>166.595</td>\n",
              "      <td>46278295</td>\n",
              "      <td>0.0</td>\n",
              "      <td>1.0</td>\n",
              "    </tr>\n",
              "    <tr>\n",
              "      <th>1255</th>\n",
              "      <td>AAPL</td>\n",
              "      <td>2023-04-05 00:00:00+00:00</td>\n",
              "      <td>163.76</td>\n",
              "      <td>165.0500</td>\n",
              "      <td>161.80</td>\n",
              "      <td>164.740</td>\n",
              "      <td>51511744</td>\n",
              "      <td>163.76</td>\n",
              "      <td>165.0500</td>\n",
              "      <td>161.80</td>\n",
              "      <td>164.740</td>\n",
              "      <td>51511744</td>\n",
              "      <td>0.0</td>\n",
              "      <td>1.0</td>\n",
              "    </tr>\n",
              "    <tr>\n",
              "      <th>1256</th>\n",
              "      <td>AAPL</td>\n",
              "      <td>2023-04-06 00:00:00+00:00</td>\n",
              "      <td>164.66</td>\n",
              "      <td>164.9584</td>\n",
              "      <td>162.00</td>\n",
              "      <td>162.430</td>\n",
              "      <td>45390123</td>\n",
              "      <td>164.66</td>\n",
              "      <td>164.9584</td>\n",
              "      <td>162.00</td>\n",
              "      <td>162.430</td>\n",
              "      <td>45390123</td>\n",
              "      <td>0.0</td>\n",
              "      <td>1.0</td>\n",
              "    </tr>\n",
              "  </tbody>\n",
              "</table>\n",
              "</div>\n",
              "      <button class=\"colab-df-convert\" onclick=\"convertToInteractive('df-ac841c9d-c705-4485-8fb9-e1f33e0f3ea3')\"\n",
              "              title=\"Convert this dataframe to an interactive table.\"\n",
              "              style=\"display:none;\">\n",
              "        \n",
              "  <svg xmlns=\"http://www.w3.org/2000/svg\" height=\"24px\"viewBox=\"0 0 24 24\"\n",
              "       width=\"24px\">\n",
              "    <path d=\"M0 0h24v24H0V0z\" fill=\"none\"/>\n",
              "    <path d=\"M18.56 5.44l.94 2.06.94-2.06 2.06-.94-2.06-.94-.94-2.06-.94 2.06-2.06.94zm-11 1L8.5 8.5l.94-2.06 2.06-.94-2.06-.94L8.5 2.5l-.94 2.06-2.06.94zm10 10l.94 2.06.94-2.06 2.06-.94-2.06-.94-.94-2.06-.94 2.06-2.06.94z\"/><path d=\"M17.41 7.96l-1.37-1.37c-.4-.4-.92-.59-1.43-.59-.52 0-1.04.2-1.43.59L10.3 9.45l-7.72 7.72c-.78.78-.78 2.05 0 2.83L4 21.41c.39.39.9.59 1.41.59.51 0 1.02-.2 1.41-.59l7.78-7.78 2.81-2.81c.8-.78.8-2.07 0-2.86zM5.41 20L4 18.59l7.72-7.72 1.47 1.35L5.41 20z\"/>\n",
              "  </svg>\n",
              "      </button>\n",
              "      \n",
              "  <style>\n",
              "    .colab-df-container {\n",
              "      display:flex;\n",
              "      flex-wrap:wrap;\n",
              "      gap: 12px;\n",
              "    }\n",
              "\n",
              "    .colab-df-convert {\n",
              "      background-color: #E8F0FE;\n",
              "      border: none;\n",
              "      border-radius: 50%;\n",
              "      cursor: pointer;\n",
              "      display: none;\n",
              "      fill: #1967D2;\n",
              "      height: 32px;\n",
              "      padding: 0 0 0 0;\n",
              "      width: 32px;\n",
              "    }\n",
              "\n",
              "    .colab-df-convert:hover {\n",
              "      background-color: #E2EBFA;\n",
              "      box-shadow: 0px 1px 2px rgba(60, 64, 67, 0.3), 0px 1px 3px 1px rgba(60, 64, 67, 0.15);\n",
              "      fill: #174EA6;\n",
              "    }\n",
              "\n",
              "    [theme=dark] .colab-df-convert {\n",
              "      background-color: #3B4455;\n",
              "      fill: #D2E3FC;\n",
              "    }\n",
              "\n",
              "    [theme=dark] .colab-df-convert:hover {\n",
              "      background-color: #434B5C;\n",
              "      box-shadow: 0px 1px 3px 1px rgba(0, 0, 0, 0.15);\n",
              "      filter: drop-shadow(0px 1px 2px rgba(0, 0, 0, 0.3));\n",
              "      fill: #FFFFFF;\n",
              "    }\n",
              "  </style>\n",
              "\n",
              "      <script>\n",
              "        const buttonEl =\n",
              "          document.querySelector('#df-ac841c9d-c705-4485-8fb9-e1f33e0f3ea3 button.colab-df-convert');\n",
              "        buttonEl.style.display =\n",
              "          google.colab.kernel.accessAllowed ? 'block' : 'none';\n",
              "\n",
              "        async function convertToInteractive(key) {\n",
              "          const element = document.querySelector('#df-ac841c9d-c705-4485-8fb9-e1f33e0f3ea3');\n",
              "          const dataTable =\n",
              "            await google.colab.kernel.invokeFunction('convertToInteractive',\n",
              "                                                     [key], {});\n",
              "          if (!dataTable) return;\n",
              "\n",
              "          const docLinkHtml = 'Like what you see? Visit the ' +\n",
              "            '<a target=\"_blank\" href=https://colab.research.google.com/notebooks/data_table.ipynb>data table notebook</a>'\n",
              "            + ' to learn more about interactive tables.';\n",
              "          element.innerHTML = '';\n",
              "          dataTable['output_type'] = 'display_data';\n",
              "          await google.colab.output.renderOutput(dataTable, element);\n",
              "          const docLink = document.createElement('div');\n",
              "          docLink.innerHTML = docLinkHtml;\n",
              "          element.appendChild(docLink);\n",
              "        }\n",
              "      </script>\n",
              "    </div>\n",
              "  </div>\n",
              "  "
            ]
          },
          "metadata": {},
          "execution_count": 31
        }
      ]
    },
    {
      "cell_type": "code",
      "source": [
        "df2 = df.reset_index()['close']"
      ],
      "metadata": {
        "id": "bt1JsIMqaP02"
      },
      "execution_count": 32,
      "outputs": []
    },
    {
      "cell_type": "code",
      "source": [
        "df2[1228:]"
      ],
      "metadata": {
        "id": "UJsCMWSPaqKy",
        "colab": {
          "base_uri": "https://localhost:8080/"
        },
        "outputId": "0085c3e8-bf4d-4733-f55b-8194473da6be"
      },
      "execution_count": 33,
      "outputs": [
        {
          "output_type": "execute_result",
          "data": {
            "text/plain": [
              "1228    147.92\n",
              "1229    147.41\n",
              "1230    145.31\n",
              "1231    145.91\n",
              "1232    151.03\n",
              "1233    153.83\n",
              "1234    151.60\n",
              "1235    152.87\n",
              "1236    150.59\n",
              "1237    148.50\n",
              "1238    150.47\n",
              "1239    152.59\n",
              "1240    152.99\n",
              "1241    155.85\n",
              "1242    155.00\n",
              "1243    157.40\n",
              "1244    159.28\n",
              "1245    157.83\n",
              "1246    158.93\n",
              "1247    160.25\n",
              "1248    158.28\n",
              "1249    157.65\n",
              "1250    160.77\n",
              "1251    162.36\n",
              "1252    164.90\n",
              "1253    166.17\n",
              "1254    165.63\n",
              "1255    163.76\n",
              "1256    164.66\n",
              "Name: close, dtype: float64"
            ]
          },
          "metadata": {},
          "execution_count": 33
        }
      ]
    },
    {
      "cell_type": "code",
      "source": [
        "df1 = df.reset_index()['close']"
      ],
      "metadata": {
        "id": "k1-9WUoMIb4I"
      },
      "execution_count": 34,
      "outputs": []
    },
    {
      "cell_type": "code",
      "source": [
        "df1.shape"
      ],
      "metadata": {
        "colab": {
          "base_uri": "https://localhost:8080/"
        },
        "id": "t5rgltQpI3M6",
        "outputId": "468c3a05-884f-4997-b438-0c9b9ad6b5da"
      },
      "execution_count": 35,
      "outputs": [
        {
          "output_type": "execute_result",
          "data": {
            "text/plain": [
              "(1257,)"
            ]
          },
          "metadata": {},
          "execution_count": 35
        }
      ]
    },
    {
      "cell_type": "code",
      "source": [
        "import matplotlib.pyplot as plt\n",
        "plt.plot(df1)"
      ],
      "metadata": {
        "colab": {
          "base_uri": "https://localhost:8080/",
          "height": 448
        },
        "id": "LR7eZJ7VI40g",
        "outputId": "1e0b1627-58a4-476a-e8a5-9b210f667b46"
      },
      "execution_count": 36,
      "outputs": [
        {
          "output_type": "execute_result",
          "data": {
            "text/plain": [
              "[<matplotlib.lines.Line2D at 0x7fc0ad9059a0>]"
            ]
          },
          "metadata": {},
          "execution_count": 36
        },
        {
          "output_type": "display_data",
          "data": {
            "text/plain": [
              "<Figure size 640x480 with 1 Axes>"
            ],
            "image/png": "[encoded data removed]"
          },
          "metadata": {}
        }
      ]
    },
    {
      "cell_type": "code",
      "source": [
        "import numpy as np"
      ],
      "metadata": {
        "id": "yCSyAP75JBBx"
      },
      "execution_count": 37,
      "outputs": []
    },
    {
      "cell_type": "code",
      "source": [
        "## LSTM are sensitive to the scale of the data.So we generally apply MinMax scaler.\n",
        "from sklearn.preprocessing import MinMaxScaler\n",
        "scaler = MinMaxScaler(feature_range =(0,1))\n",
        "df1 = scaler.fit_transform(np.array(df1).reshape(-1,1))"
      ],
      "metadata": {
        "id": "YLNWgTqqJJ7a"
      },
      "execution_count": 38,
      "outputs": []
    },
    {
      "cell_type": "code",
      "source": [
        "df1.shape"
      ],
      "metadata": {
        "colab": {
          "base_uri": "https://localhost:8080/"
        },
        "id": "mQM0O4t1JUkR",
        "outputId": "ac2f840e-a49c-4fc6-c7c8-07b26d12ef71"
      },
      "execution_count": 39,
      "outputs": [
        {
          "output_type": "execute_result",
          "data": {
            "text/plain": [
              "(1257, 1)"
            ]
          },
          "metadata": {},
          "execution_count": 39
        }
      ]
    },
    {
      "cell_type": "code",
      "source": [
        "print(df1)"
      ],
      "metadata": {
        "colab": {
          "base_uri": "https://localhost:8080/"
        },
        "id": "lYqqZ_mIMNN4",
        "outputId": "852fbbcf-ff19-4227-b4b6-31259f85f7ab"
      },
      "execution_count": 40,
      "outputs": [
        {
          "output_type": "stream",
          "name": "stdout",
          "text": [
            "[[0.16430808]\n",
            " [0.16856606]\n",
            " [0.17004383]\n",
            " ...\n",
            " [0.1472511 ]\n",
            " [0.14256731]\n",
            " [0.14482154]]\n"
          ]
        }
      ]
    },
    {
      "cell_type": "code",
      "source": [
        "## Time Series Data --> Train and Test Spilt --> \n",
        "## Data = 120,130,125,140,134,150,160,190,154\n",
        "## Train = 120,130,125,140,134,150\n",
        "## Test = 160,190,154\n",
        "\n",
        "train_size = int(len(df1)*0.65)\n",
        "test_size = len(df1) - train_size\n",
        "train_data , test_data = df1[0:train_size,:] , df1[train_size:len(df1),:1]"
      ],
      "metadata": {
        "id": "9cK4tm39MQrL"
      },
      "execution_count": 41,
      "outputs": []
    },
    {
      "cell_type": "code",
      "source": [
        "train_size"
      ],
      "metadata": {
        "colab": {
          "base_uri": "https://localhost:8080/"
        },
        "id": "nAMv_TOtO5YK",
        "outputId": "2d6162ba-8cae-4fed-df64-4fe0a37ecea6"
      },
      "execution_count": 42,
      "outputs": [
        {
          "output_type": "execute_result",
          "data": {
            "text/plain": [
              "817"
            ]
          },
          "metadata": {},
          "execution_count": 42
        }
      ]
    },
    {
      "cell_type": "code",
      "source": [
        "test_size"
      ],
      "metadata": {
        "colab": {
          "base_uri": "https://localhost:8080/"
        },
        "id": "NjMSXg52PEDT",
        "outputId": "be285b38-b84c-416c-fdee-c5de6d0639bf"
      },
      "execution_count": 43,
      "outputs": [
        {
          "output_type": "execute_result",
          "data": {
            "text/plain": [
              "440"
            ]
          },
          "metadata": {},
          "execution_count": 43
        }
      ]
    },
    {
      "cell_type": "code",
      "source": [
        "def create_dataset(dataset,time_step=1):\n",
        "  dataX, dataY = [] , []\n",
        "  for i in range(len(dataset)-time_step-1):\n",
        "    a = dataset[i: (i + time_step),0]\n",
        "    dataX.append(a)\n",
        "    dataY.append(dataset[i+time_step,0])\n",
        "  return np.array(dataX) , np.array(dataY)\n"
      ],
      "metadata": {
        "id": "aMmTC2urPFPl"
      },
      "execution_count": 44,
      "outputs": []
    },
    {
      "cell_type": "code",
      "source": [
        "time_step = 100\n",
        "X_train , y_train = create_dataset(train_data,time_step)\n",
        "X_test , y_test = create_dataset(test_data,time_step)"
      ],
      "metadata": {
        "id": "yyDo1oQJRr3z"
      },
      "execution_count": 46,
      "outputs": []
    },
    {
      "cell_type": "code",
      "source": [
        "print(X_train)"
      ],
      "metadata": {
        "colab": {
          "base_uri": "https://localhost:8080/"
        },
        "id": "mCnjaPGKSEgY",
        "outputId": "db6d1cfb-3898-4946-c51e-859039868617"
      },
      "execution_count": 47,
      "outputs": [
        {
          "output_type": "stream",
          "name": "stdout",
          "text": [
            "[[0.16430808 0.16856606 0.17004383 ... 0.28268003 0.29089543 0.29603006]\n",
            " [0.16856606 0.17004383 0.17277395 ... 0.29089543 0.29603006 0.30254227]\n",
            " [0.17004383 0.17277395 0.17883532 ... 0.29603006 0.30254227 0.3043707 ]\n",
            " ...\n",
            " [0.07306199 0.07150908 0.07085786 ... 0.07386349 0.07544145 0.07621791]\n",
            " [0.07150908 0.07085786 0.07145899 ... 0.07544145 0.07621791 0.08295554]\n",
            " [0.07085786 0.07145899 0.06599875 ... 0.07621791 0.08295554 0.08811522]]\n"
          ]
        }
      ]
    },
    {
      "cell_type": "code",
      "source": [
        "print(X_train.shape)"
      ],
      "metadata": {
        "colab": {
          "base_uri": "https://localhost:8080/"
        },
        "id": "YYdqF-6qSrxQ",
        "outputId": "0c786868-ab94-4ee3-97b0-ab36dfb0479a"
      },
      "execution_count": 49,
      "outputs": [
        {
          "output_type": "stream",
          "name": "stdout",
          "text": [
            "(716, 100)\n"
          ]
        }
      ]
    },
    {
      "cell_type": "code",
      "source": [
        "print(X_test.shape)"
      ],
      "metadata": {
        "colab": {
          "base_uri": "https://localhost:8080/"
        },
        "id": "9sfazdxcSL7i",
        "outputId": "9822ff91-4486-476c-cde6-e0ae23048292"
      },
      "execution_count": 50,
      "outputs": [
        {
          "output_type": "stream",
          "name": "stdout",
          "text": [
            "(339, 100)\n"
          ]
        }
      ]
    },
    {
      "cell_type": "code",
      "source": [
        "print(y_train.shape)"
      ],
      "metadata": {
        "colab": {
          "base_uri": "https://localhost:8080/"
        },
        "id": "jQQnpFvYTIWC",
        "outputId": "8be78c60-2663-4fe0-c82a-244e414398a0"
      },
      "execution_count": 54,
      "outputs": [
        {
          "output_type": "stream",
          "name": "stdout",
          "text": [
            "(716,)\n"
          ]
        }
      ]
    },
    {
      "cell_type": "code",
      "source": [
        "print(y_test.shape)"
      ],
      "metadata": {
        "colab": {
          "base_uri": "https://localhost:8080/"
        },
        "id": "QzDi07BtS1bU",
        "outputId": "8dc62160-aca9-49b8-d27f-bd093674f379"
      },
      "execution_count": 52,
      "outputs": [
        {
          "output_type": "stream",
          "name": "stdout",
          "text": [
            "(339,)\n"
          ]
        }
      ]
    },
    {
      "cell_type": "code",
      "source": [
        "# reshape input to be [samples,time_steps, features] which is required for LSTM\n",
        "X_train = X_train.reshape(X_train.shape[0],X_train.shape[1],1)\n",
        "X_test = X_test.reshape(X_test.shape[0],X_test.shape[1],1)"
      ],
      "metadata": {
        "id": "1hw2DZjCTLVt"
      },
      "execution_count": 58,
      "outputs": []
    },
    {
      "cell_type": "code",
      "source": [
        "X_train.shape[0]"
      ],
      "metadata": {
        "colab": {
          "base_uri": "https://localhost:8080/"
        },
        "id": "TOgWnscIT4Kw",
        "outputId": "af3dd56a-616a-435b-aceb-797d5152ec92"
      },
      "execution_count": 59,
      "outputs": [
        {
          "output_type": "execute_result",
          "data": {
            "text/plain": [
              "716"
            ]
          },
          "metadata": {},
          "execution_count": 59
        }
      ]
    },
    {
      "cell_type": "code",
      "source": [
        "X_train.shape[1]"
      ],
      "metadata": {
        "colab": {
          "base_uri": "https://localhost:8080/"
        },
        "id": "Ao_MXX0HT8Sn",
        "outputId": "33a8bb75-b891-4ab4-943a-704d08bbc882"
      },
      "execution_count": 60,
      "outputs": [
        {
          "output_type": "execute_result",
          "data": {
            "text/plain": [
              "100"
            ]
          },
          "metadata": {},
          "execution_count": 60
        }
      ]
    },
    {
      "cell_type": "code",
      "source": [
        "X_train.shape"
      ],
      "metadata": {
        "colab": {
          "base_uri": "https://localhost:8080/"
        },
        "id": "Y_DHamC5UAVW",
        "outputId": "d7c36fb7-63e4-40a5-be8b-2a9658e88d31"
      },
      "execution_count": 61,
      "outputs": [
        {
          "output_type": "execute_result",
          "data": {
            "text/plain": [
              "(716, 100, 1)"
            ]
          },
          "metadata": {},
          "execution_count": 61
        }
      ]
    },
    {
      "cell_type": "code",
      "source": [
        "### Create the LSTM Model\n"
      ],
      "metadata": {
        "id": "wOM7AQ5YUM4o"
      },
      "execution_count": null,
      "outputs": []
    }
  ]
}
